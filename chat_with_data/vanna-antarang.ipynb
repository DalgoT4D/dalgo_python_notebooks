{
 "cells": [
  {
   "cell_type": "code",
   "execution_count": 71,
   "id": "3c4b7336-af89-4624-aded-b9cd34e61a96",
   "metadata": {},
   "outputs": [],
   "source": [
    "import os\n",
    "from dotenv import load_dotenv"
   ]
  },
  {
   "cell_type": "code",
   "execution_count": 86,
   "id": "037b8643-c377-46a4-b00a-d6264e3d1056",
   "metadata": {},
   "outputs": [],
   "source": [
    "from vanna.openai import OpenAI_Chat\n",
    "from vanna.pgvector import PG_VectorStore"
   ]
  },
  {
   "cell_type": "code",
   "execution_count": 89,
   "id": "bf662be7-1809-4e7a-8bd3-b35e8dd4a417",
   "metadata": {},
   "outputs": [
    {
     "data": {
      "text/plain": [
       "True"
      ]
     },
     "execution_count": 89,
     "metadata": {},
     "output_type": "execute_result"
    }
   ],
   "source": [
    "load_dotenv(\"cwyd.antarang.env\", override=True)"
   ]
  },
  {
   "cell_type": "code",
   "execution_count": 90,
   "id": "a47713f5-35d8-4f6b-841e-6245994a9cc0",
   "metadata": {},
   "outputs": [],
   "source": [
    "MY_VANNA_API_KEY = os.environ[\"MY_VANNA_API_KEY\"]\n",
    "MY_VANNA_MODEL = os.environ[\"MY_VANNA_MODEL\"]\n",
    "OPENAI_API_KEY = os.environ[\"OPENAI_API_KEY\"]\n",
    "PATH_TO_BQ_SERVICE_ACCOUNT_JSON = os.environ[\"PATH_TO_BQ_SERVICE_ACCOUNT_JSON\"]\n",
    "BQ_PROJECT_ID = os.environ[\"BQ_PROJECT_ID\"]\n",
    "BQ_DATASET = os.environ[\"BQ_DATASET\"]\n",
    "\n",
    "PGVECTOR_USER = os.environ[\"PGVECTOR_USER\"]\n",
    "PGVECTOR_PASSWORD = os.environ[\"PGVECTOR_PASSWORD\"]\n",
    "PGVECTOR_HOST = os.environ[\"PGVECTOR_HOST\"]\n",
    "PGVECTOR_PORT = os.environ[\"PGVECTOR_PORT\"]\n",
    "PGVECTOR_DB = os.environ[\"PGVECTOR_DB\"]"
   ]
  },
  {
   "cell_type": "code",
   "execution_count": 91,
   "id": "2e39d14f-08c7-4496-aa05-ab61bf61010c",
   "metadata": {},
   "outputs": [],
   "source": [
    "class DalgoVannaClient(PG_VectorStore, OpenAI_Chat):\n",
    "    def __init__(self, openai_config={}, pg_vector_config={}):\n",
    "        PG_VectorStore.__init__(\n",
    "            self,\n",
    "            config={\n",
    "                \"connection_string\": \"postgresql+psycopg://{username}:{password}@{server}:{port}/{database}\".format(\n",
    "                    **{\n",
    "                        \"username\": PGVECTOR_USER,\n",
    "                        \"password\": PGVECTOR_PASSWORD,\n",
    "                        \"server\": PGVECTOR_HOST,\n",
    "                        \"port\": PGVECTOR_PORT,\n",
    "                        \"database\": PGVECTOR_DB,\n",
    "                    }\n",
    "                ),\n",
    "                **pg_vector_config,\n",
    "            },\n",
    "        )\n",
    "        OpenAI_Chat.__init__(\n",
    "            self,\n",
    "            config={\n",
    "                \"api_key\": OPENAI_API_KEY,\n",
    "                \"model\": \"gpt-4o-mini\",\n",
    "                **openai_config,\n",
    "            },\n",
    "        )\n",
    "\n",
    "vn = DalgoVannaClient()"
   ]
  },
  {
   "cell_type": "code",
   "execution_count": 92,
   "id": "2c3e152a-b13e-4cde-a86d-c1d0a0ba81c2",
   "metadata": {},
   "outputs": [
    {
     "name": "stdout",
     "output_type": "stream",
     "text": [
      "Not using Google Colab.\n"
     ]
    }
   ],
   "source": [
    "vn.connect_to_bigquery(\n",
    "    project_id=BQ_PROJECT_ID,\n",
    "    cred_file_path=PATH_TO_BQ_SERVICE_ACCOUNT_JSON,\n",
    ")"
   ]
  },
  {
   "cell_type": "code",
   "execution_count": 93,
   "id": "cd1271cc-687e-4d6a-9ecb-0ed77518a941",
   "metadata": {},
   "outputs": [],
   "source": [
    "exclude_schemas = [\"airbyte_internal\", \"dbt_staging_elementary\", \"pg_catalog\"]"
   ]
  },
  {
   "cell_type": "code",
   "execution_count": 94,
   "id": "c3651e16-829a-4b61-a14f-3403dc0d2885",
   "metadata": {},
   "outputs": [
    {
     "name": "stdout",
     "output_type": "stream",
     "text": [
      "\n",
      "SELECT * FROM `dalgo_DBT_Antarang_Foundation`.`INFORMATION_SCHEMA`.`COLUMNS` \n",
      "WHERE column_name NOT LIKE '_airbyte%'\n",
      "AND table_schema not in (\n",
      "    `airbyte_internal`,`dbt_staging_elementary`,`pg_catalog`\n",
      ")\n",
      "\n"
     ]
    }
   ],
   "source": [
    "print(f\"\"\"\n",
    "SELECT * FROM `{BQ_DATASET}`.`INFORMATION_SCHEMA`.`COLUMNS` \n",
    "WHERE column_name NOT LIKE '_airbyte%'\n",
    "AND table_schema not in (\n",
    "    {','.join([\"`\" + schema + \"`\" for schema in exclude_schemas])}\n",
    ")\n",
    "\"\"\")"
   ]
  },
  {
   "cell_type": "code",
   "execution_count": 95,
   "id": "453cb31a-164a-4848-8cab-4c438c6f9c27",
   "metadata": {},
   "outputs": [],
   "source": [
    "df_information_schema = vn.run_sql(f\"\"\"\n",
    "SELECT * FROM `{BQ_DATASET}`.`INFORMATION_SCHEMA`.`COLUMNS` \n",
    "WHERE column_name NOT LIKE '_airbyte%'\n",
    "AND table_schema not in (\n",
    "    {','.join([\"'\" + schema + \"'\" for schema in exclude_schemas])}\n",
    ")\n",
    "\"\"\")"
   ]
  },
  {
   "cell_type": "code",
   "execution_count": 96,
   "id": "72421bb1-dae1-492f-9c0a-16196d281c2d",
   "metadata": {},
   "outputs": [
    {
     "data": {
      "text/html": [
       "<div>\n",
       "<style scoped>\n",
       "    .dataframe tbody tr th:only-of-type {\n",
       "        vertical-align: middle;\n",
       "    }\n",
       "\n",
       "    .dataframe tbody tr th {\n",
       "        vertical-align: top;\n",
       "    }\n",
       "\n",
       "    .dataframe thead th {\n",
       "        text-align: right;\n",
       "    }\n",
       "</style>\n",
       "<table border=\"1\" class=\"dataframe\">\n",
       "  <thead>\n",
       "    <tr style=\"text-align: right;\">\n",
       "      <th></th>\n",
       "      <th>table_catalog</th>\n",
       "      <th>table_schema</th>\n",
       "      <th>table_name</th>\n",
       "      <th>column_name</th>\n",
       "      <th>ordinal_position</th>\n",
       "      <th>is_nullable</th>\n",
       "      <th>data_type</th>\n",
       "      <th>is_generated</th>\n",
       "      <th>generation_expression</th>\n",
       "      <th>is_stored</th>\n",
       "      <th>is_hidden</th>\n",
       "      <th>is_updatable</th>\n",
       "      <th>is_system_defined</th>\n",
       "      <th>is_partitioning_column</th>\n",
       "      <th>clustering_ordinal_position</th>\n",
       "      <th>collation_name</th>\n",
       "      <th>column_default</th>\n",
       "      <th>rounding_mode</th>\n",
       "    </tr>\n",
       "  </thead>\n",
       "  <tbody>\n",
       "    <tr>\n",
       "      <th>0</th>\n",
       "      <td>antarang-dashboard</td>\n",
       "      <td>dalgo_DBT_Antarang_Foundation</td>\n",
       "      <td>int_global_session_attendance_copy</td>\n",
       "      <td>batch_no</td>\n",
       "      <td>1</td>\n",
       "      <td>YES</td>\n",
       "      <td>STRING</td>\n",
       "      <td>NEVER</td>\n",
       "      <td>None</td>\n",
       "      <td>None</td>\n",
       "      <td>NO</td>\n",
       "      <td>None</td>\n",
       "      <td>NO</td>\n",
       "      <td>NO</td>\n",
       "      <td>&lt;NA&gt;</td>\n",
       "      <td>NULL</td>\n",
       "      <td>NULL</td>\n",
       "      <td>None</td>\n",
       "    </tr>\n",
       "    <tr>\n",
       "      <th>1</th>\n",
       "      <td>antarang-dashboard</td>\n",
       "      <td>dalgo_DBT_Antarang_Foundation</td>\n",
       "      <td>int_global_session_attendance_copy</td>\n",
       "      <td>batch_academic_year</td>\n",
       "      <td>2</td>\n",
       "      <td>YES</td>\n",
       "      <td>NUMERIC</td>\n",
       "      <td>NEVER</td>\n",
       "      <td>None</td>\n",
       "      <td>None</td>\n",
       "      <td>NO</td>\n",
       "      <td>None</td>\n",
       "      <td>NO</td>\n",
       "      <td>NO</td>\n",
       "      <td>&lt;NA&gt;</td>\n",
       "      <td>NULL</td>\n",
       "      <td>NULL</td>\n",
       "      <td>None</td>\n",
       "    </tr>\n",
       "    <tr>\n",
       "      <th>2</th>\n",
       "      <td>antarang-dashboard</td>\n",
       "      <td>dalgo_DBT_Antarang_Foundation</td>\n",
       "      <td>int_global_session_attendance_copy</td>\n",
       "      <td>batch_language</td>\n",
       "      <td>3</td>\n",
       "      <td>YES</td>\n",
       "      <td>STRING</td>\n",
       "      <td>NEVER</td>\n",
       "      <td>None</td>\n",
       "      <td>None</td>\n",
       "      <td>NO</td>\n",
       "      <td>None</td>\n",
       "      <td>NO</td>\n",
       "      <td>NO</td>\n",
       "      <td>&lt;NA&gt;</td>\n",
       "      <td>NULL</td>\n",
       "      <td>NULL</td>\n",
       "      <td>None</td>\n",
       "    </tr>\n",
       "    <tr>\n",
       "      <th>3</th>\n",
       "      <td>antarang-dashboard</td>\n",
       "      <td>dalgo_DBT_Antarang_Foundation</td>\n",
       "      <td>int_global_session_attendance_copy</td>\n",
       "      <td>batch_donor</td>\n",
       "      <td>4</td>\n",
       "      <td>YES</td>\n",
       "      <td>STRING</td>\n",
       "      <td>NEVER</td>\n",
       "      <td>None</td>\n",
       "      <td>None</td>\n",
       "      <td>NO</td>\n",
       "      <td>None</td>\n",
       "      <td>NO</td>\n",
       "      <td>NO</td>\n",
       "      <td>&lt;NA&gt;</td>\n",
       "      <td>NULL</td>\n",
       "      <td>NULL</td>\n",
       "      <td>None</td>\n",
       "    </tr>\n",
       "    <tr>\n",
       "      <th>4</th>\n",
       "      <td>antarang-dashboard</td>\n",
       "      <td>dalgo_DBT_Antarang_Foundation</td>\n",
       "      <td>int_global_session_attendance_copy</td>\n",
       "      <td>facilitator_name</td>\n",
       "      <td>5</td>\n",
       "      <td>YES</td>\n",
       "      <td>STRING</td>\n",
       "      <td>NEVER</td>\n",
       "      <td>None</td>\n",
       "      <td>None</td>\n",
       "      <td>NO</td>\n",
       "      <td>None</td>\n",
       "      <td>NO</td>\n",
       "      <td>NO</td>\n",
       "      <td>&lt;NA&gt;</td>\n",
       "      <td>NULL</td>\n",
       "      <td>NULL</td>\n",
       "      <td>None</td>\n",
       "    </tr>\n",
       "    <tr>\n",
       "      <th>...</th>\n",
       "      <td>...</td>\n",
       "      <td>...</td>\n",
       "      <td>...</td>\n",
       "      <td>...</td>\n",
       "      <td>...</td>\n",
       "      <td>...</td>\n",
       "      <td>...</td>\n",
       "      <td>...</td>\n",
       "      <td>...</td>\n",
       "      <td>...</td>\n",
       "      <td>...</td>\n",
       "      <td>...</td>\n",
       "      <td>...</td>\n",
       "      <td>...</td>\n",
       "      <td>...</td>\n",
       "      <td>...</td>\n",
       "      <td>...</td>\n",
       "      <td>...</td>\n",
       "    </tr>\n",
       "    <tr>\n",
       "      <th>7948</th>\n",
       "      <td>antarang-dashboard</td>\n",
       "      <td>dalgo_DBT_Antarang_Foundation</td>\n",
       "      <td>ygMUM10</td>\n",
       "      <td>fp_correct</td>\n",
       "      <td>25</td>\n",
       "      <td>YES</td>\n",
       "      <td>NUMERIC</td>\n",
       "      <td>NEVER</td>\n",
       "      <td>None</td>\n",
       "      <td>None</td>\n",
       "      <td>NO</td>\n",
       "      <td>None</td>\n",
       "      <td>NO</td>\n",
       "      <td>NO</td>\n",
       "      <td>&lt;NA&gt;</td>\n",
       "      <td>NULL</td>\n",
       "      <td>NULL</td>\n",
       "      <td>None</td>\n",
       "    </tr>\n",
       "    <tr>\n",
       "      <th>7949</th>\n",
       "      <td>antarang-dashboard</td>\n",
       "      <td>dalgo_DBT_Antarang_Foundation</td>\n",
       "      <td>ygMUM10</td>\n",
       "      <td>saf_Received</td>\n",
       "      <td>26</td>\n",
       "      <td>YES</td>\n",
       "      <td>NUMERIC</td>\n",
       "      <td>NEVER</td>\n",
       "      <td>None</td>\n",
       "      <td>None</td>\n",
       "      <td>NO</td>\n",
       "      <td>None</td>\n",
       "      <td>NO</td>\n",
       "      <td>NO</td>\n",
       "      <td>&lt;NA&gt;</td>\n",
       "      <td>NULL</td>\n",
       "      <td>NULL</td>\n",
       "      <td>None</td>\n",
       "    </tr>\n",
       "    <tr>\n",
       "      <th>7950</th>\n",
       "      <td>antarang-dashboard</td>\n",
       "      <td>dalgo_DBT_Antarang_Foundation</td>\n",
       "      <td>ygMUM10</td>\n",
       "      <td>saf_raw</td>\n",
       "      <td>27</td>\n",
       "      <td>YES</td>\n",
       "      <td>NUMERIC</td>\n",
       "      <td>NEVER</td>\n",
       "      <td>None</td>\n",
       "      <td>None</td>\n",
       "      <td>NO</td>\n",
       "      <td>None</td>\n",
       "      <td>NO</td>\n",
       "      <td>NO</td>\n",
       "      <td>&lt;NA&gt;</td>\n",
       "      <td>NULL</td>\n",
       "      <td>NULL</td>\n",
       "      <td>None</td>\n",
       "    </tr>\n",
       "    <tr>\n",
       "      <th>7951</th>\n",
       "      <td>antarang-dashboard</td>\n",
       "      <td>dalgo_DBT_Antarang_Foundation</td>\n",
       "      <td>ygMUM10</td>\n",
       "      <td>saf_correct</td>\n",
       "      <td>28</td>\n",
       "      <td>YES</td>\n",
       "      <td>NUMERIC</td>\n",
       "      <td>NEVER</td>\n",
       "      <td>None</td>\n",
       "      <td>None</td>\n",
       "      <td>NO</td>\n",
       "      <td>None</td>\n",
       "      <td>NO</td>\n",
       "      <td>NO</td>\n",
       "      <td>&lt;NA&gt;</td>\n",
       "      <td>NULL</td>\n",
       "      <td>NULL</td>\n",
       "      <td>None</td>\n",
       "    </tr>\n",
       "    <tr>\n",
       "      <th>7952</th>\n",
       "      <td>antarang-dashboard</td>\n",
       "      <td>dalgo_DBT_Antarang_Foundation</td>\n",
       "      <td>ygMUM10</td>\n",
       "      <td>Check</td>\n",
       "      <td>29</td>\n",
       "      <td>YES</td>\n",
       "      <td>STRING</td>\n",
       "      <td>NEVER</td>\n",
       "      <td>None</td>\n",
       "      <td>None</td>\n",
       "      <td>NO</td>\n",
       "      <td>None</td>\n",
       "      <td>NO</td>\n",
       "      <td>NO</td>\n",
       "      <td>&lt;NA&gt;</td>\n",
       "      <td>NULL</td>\n",
       "      <td>NULL</td>\n",
       "      <td>None</td>\n",
       "    </tr>\n",
       "  </tbody>\n",
       "</table>\n",
       "<p>7953 rows × 18 columns</p>\n",
       "</div>"
      ],
      "text/plain": [
       "           table_catalog                   table_schema  \\\n",
       "0     antarang-dashboard  dalgo_DBT_Antarang_Foundation   \n",
       "1     antarang-dashboard  dalgo_DBT_Antarang_Foundation   \n",
       "2     antarang-dashboard  dalgo_DBT_Antarang_Foundation   \n",
       "3     antarang-dashboard  dalgo_DBT_Antarang_Foundation   \n",
       "4     antarang-dashboard  dalgo_DBT_Antarang_Foundation   \n",
       "...                  ...                            ...   \n",
       "7948  antarang-dashboard  dalgo_DBT_Antarang_Foundation   \n",
       "7949  antarang-dashboard  dalgo_DBT_Antarang_Foundation   \n",
       "7950  antarang-dashboard  dalgo_DBT_Antarang_Foundation   \n",
       "7951  antarang-dashboard  dalgo_DBT_Antarang_Foundation   \n",
       "7952  antarang-dashboard  dalgo_DBT_Antarang_Foundation   \n",
       "\n",
       "                              table_name          column_name  \\\n",
       "0     int_global_session_attendance_copy             batch_no   \n",
       "1     int_global_session_attendance_copy  batch_academic_year   \n",
       "2     int_global_session_attendance_copy       batch_language   \n",
       "3     int_global_session_attendance_copy          batch_donor   \n",
       "4     int_global_session_attendance_copy     facilitator_name   \n",
       "...                                  ...                  ...   \n",
       "7948                             ygMUM10           fp_correct   \n",
       "7949                             ygMUM10         saf_Received   \n",
       "7950                             ygMUM10              saf_raw   \n",
       "7951                             ygMUM10          saf_correct   \n",
       "7952                             ygMUM10                Check   \n",
       "\n",
       "      ordinal_position is_nullable data_type is_generated  \\\n",
       "0                    1         YES    STRING        NEVER   \n",
       "1                    2         YES   NUMERIC        NEVER   \n",
       "2                    3         YES    STRING        NEVER   \n",
       "3                    4         YES    STRING        NEVER   \n",
       "4                    5         YES    STRING        NEVER   \n",
       "...                ...         ...       ...          ...   \n",
       "7948                25         YES   NUMERIC        NEVER   \n",
       "7949                26         YES   NUMERIC        NEVER   \n",
       "7950                27         YES   NUMERIC        NEVER   \n",
       "7951                28         YES   NUMERIC        NEVER   \n",
       "7952                29         YES    STRING        NEVER   \n",
       "\n",
       "     generation_expression is_stored is_hidden is_updatable is_system_defined  \\\n",
       "0                     None      None        NO         None                NO   \n",
       "1                     None      None        NO         None                NO   \n",
       "2                     None      None        NO         None                NO   \n",
       "3                     None      None        NO         None                NO   \n",
       "4                     None      None        NO         None                NO   \n",
       "...                    ...       ...       ...          ...               ...   \n",
       "7948                  None      None        NO         None                NO   \n",
       "7949                  None      None        NO         None                NO   \n",
       "7950                  None      None        NO         None                NO   \n",
       "7951                  None      None        NO         None                NO   \n",
       "7952                  None      None        NO         None                NO   \n",
       "\n",
       "     is_partitioning_column  clustering_ordinal_position collation_name  \\\n",
       "0                        NO                         <NA>           NULL   \n",
       "1                        NO                         <NA>           NULL   \n",
       "2                        NO                         <NA>           NULL   \n",
       "3                        NO                         <NA>           NULL   \n",
       "4                        NO                         <NA>           NULL   \n",
       "...                     ...                          ...            ...   \n",
       "7948                     NO                         <NA>           NULL   \n",
       "7949                     NO                         <NA>           NULL   \n",
       "7950                     NO                         <NA>           NULL   \n",
       "7951                     NO                         <NA>           NULL   \n",
       "7952                     NO                         <NA>           NULL   \n",
       "\n",
       "     column_default rounding_mode  \n",
       "0              NULL          None  \n",
       "1              NULL          None  \n",
       "2              NULL          None  \n",
       "3              NULL          None  \n",
       "4              NULL          None  \n",
       "...             ...           ...  \n",
       "7948           NULL          None  \n",
       "7949           NULL          None  \n",
       "7950           NULL          None  \n",
       "7951           NULL          None  \n",
       "7952           NULL          None  \n",
       "\n",
       "[7953 rows x 18 columns]"
      ]
     },
     "execution_count": 96,
     "metadata": {},
     "output_type": "execute_result"
    }
   ],
   "source": [
    "df_information_schema"
   ]
  },
  {
   "cell_type": "code",
   "execution_count": 97,
   "id": "3d32a0b9-12c3-47d2-85c6-2af37045ec9b",
   "metadata": {},
   "outputs": [],
   "source": [
    "plan = vn.get_training_plan_generic(df_information_schema)\n",
    "vn.train(plan=plan)"
   ]
  },
  {
   "cell_type": "code",
   "execution_count": 98,
   "id": "41eef01d-cdd5-4d2a-8e2f-4c617410f435",
   "metadata": {},
   "outputs": [
    {
     "data": {
      "text/plain": [
       "'136b0177-bae8-4fd4-b35a-25a3b2ca3b09-doc'"
      ]
     },
     "execution_count": 98,
     "metadata": {},
     "output_type": "execute_result"
    }
   ],
   "source": [
    "vn.train(documentation=\"\"\"\n",
    "antarang runs after-school programs for disadvantaged youth in indian cities\n",
    "\"\"\")\n",
    "vn.train(documentation=\"\"\"\n",
    "antarang does skills development and career counseling for their students\n",
    "\"\"\")\n"
   ]
  },
  {
   "cell_type": "code",
   "execution_count": null,
   "id": "6b48d789-0101-487a-ad57-61c7bf537c6f",
   "metadata": {},
   "outputs": [],
   "source": []
  },
  {
   "cell_type": "code",
   "execution_count": 99,
   "id": "aea88a3c-08fd-4e02-a57d-043c98c80a21",
   "metadata": {},
   "outputs": [],
   "source": [
    "questions = [\n",
    "    \"what are the most popular programs which children enroll in?\",\n",
    "    \"what are the different aspects on which children are mentored and graded?\",\n",
    "    \"how many schools does antarang operate in?\",\n",
    "]"
   ]
  },
  {
   "cell_type": "code",
   "execution_count": 100,
   "id": "e268ac26-7e62-4850-aba0-07342bad884c",
   "metadata": {},
   "outputs": [
    {
     "name": "stdout",
     "output_type": "stream",
     "text": [
      "SQL Prompt: [{'role': 'system', 'content': \"You are a BigQuery SQL expert. Please help to generate a SQL query to answer the question. Your response should ONLY be based on the given context and follow the response guidelines and format instructions. \\n===Additional Context \\n\\n\\nantarang runs after-school programs for disadvantaged youth in indian cities\\n\\n\\n\\nantarang does skills development and career counseling for their students\\n\\n\\nThe following columns are in the ys table in the antarang-dashboard database:\\n\\n|      | table_catalog      | table_schema                  | table_name   | column_name   | data_type   |\\n|-----:|:-------------------|:------------------------------|:-------------|:--------------|:------------|\\n| 7091 | antarang-dashboard | dalgo_DBT_Antarang_Foundation | ys           | Studentcount  | INT64       |\\n\\nThe following columns are in the seed_district table in the antarang-dashboard database:\\n\\n|     | table_catalog      | table_schema                  | table_name    | column_name   | data_type   |\\n|----:|:-------------------|:------------------------------|:--------------|:--------------|:------------|\\n| 973 | antarang-dashboard | dalgo_DBT_Antarang_Foundation | seed_district | district_id   | STRING      |\\n| 974 | antarang-dashboard | dalgo_DBT_Antarang_Foundation | seed_district | district_name | STRING      |\\n\\nThe following columns are in the fct_student_global_sar table in the antarang-dashboard database:\\n\\n|     | table_catalog      | table_schema                  | table_name             | column_name              | data_type   |\\n|----:|:-------------------|:------------------------------|:-----------------------|:-------------------------|:------------|\\n| 771 | antarang-dashboard | dalgo_DBT_Antarang_Foundation | fct_student_global_sar | student_id               | STRING      |\\n| 772 | antarang-dashboard | dalgo_DBT_Antarang_Foundation | fct_student_global_sar | student_barcode          | STRING      |\\n| 773 | antarang-dashboard | dalgo_DBT_Antarang_Foundation | fct_student_global_sar | student_grade            | STRING      |\\n| 774 | antarang-dashboard | dalgo_DBT_Antarang_Foundation | fct_student_global_sar | gender                   | STRING      |\\n| 775 | antarang-dashboard | dalgo_DBT_Antarang_Foundation | fct_student_global_sar | caste                    | STRING      |\\n| 776 | antarang-dashboard | dalgo_DBT_Antarang_Foundation | fct_student_global_sar | student_batch_id         | STRING      |\\n| 777 | antarang-dashboard | dalgo_DBT_Antarang_Foundation | fct_student_global_sar | batch_id                 | STRING      |\\n| 778 | antarang-dashboard | dalgo_DBT_Antarang_Foundation | fct_student_global_sar | batch_no                 | STRING      |\\n| 779 | antarang-dashboard | dalgo_DBT_Antarang_Foundation | fct_student_global_sar | batch_academic_year      | NUMERIC     |\\n| 780 | antarang-dashboard | dalgo_DBT_Antarang_Foundation | fct_student_global_sar | batch_grade              | STRING      |\\n| 781 | antarang-dashboard | dalgo_DBT_Antarang_Foundation | fct_student_global_sar | batch_language           | STRING      |\\n| 782 | antarang-dashboard | dalgo_DBT_Antarang_Foundation | fct_student_global_sar | batch_facilitator_id     | STRING      |\\n| 783 | antarang-dashboard | dalgo_DBT_Antarang_Foundation | fct_student_global_sar | batch_school_id          | STRING      |\\n| 784 | antarang-dashboard | dalgo_DBT_Antarang_Foundation | fct_student_global_sar | facilitator_id           | STRING      |\\n| 785 | antarang-dashboard | dalgo_DBT_Antarang_Foundation | fct_student_global_sar | facilitator_name         | STRING      |\\n| 786 | antarang-dashboard | dalgo_DBT_Antarang_Foundation | fct_student_global_sar | facilitator_email        | STRING      |\\n| 787 | antarang-dashboard | dalgo_DBT_Antarang_Foundation | fct_student_global_sar | school_id                | STRING      |\\n| 788 | antarang-dashboard | dalgo_DBT_Antarang_Foundation | fct_student_global_sar | school_name              | STRING      |\\n| 789 | antarang-dashboard | dalgo_DBT_Antarang_Foundation | fct_student_global_sar | school_academic_year     | STRING      |\\n| 790 | antarang-dashboard | dalgo_DBT_Antarang_Foundation | fct_student_global_sar | school_language          | STRING      |\\n| 791 | antarang-dashboard | dalgo_DBT_Antarang_Foundation | fct_student_global_sar | school_taluka            | STRING      |\\n| 792 | antarang-dashboard | dalgo_DBT_Antarang_Foundation | fct_student_global_sar | school_ward              | STRING      |\\n| 793 | antarang-dashboard | dalgo_DBT_Antarang_Foundation | fct_student_global_sar | school_district          | STRING      |\\n| 794 | antarang-dashboard | dalgo_DBT_Antarang_Foundation | fct_student_global_sar | school_state             | STRING      |\\n| 795 | antarang-dashboard | dalgo_DBT_Antarang_Foundation | fct_student_global_sar | school_partner           | STRING      |\\n| 796 | antarang-dashboard | dalgo_DBT_Antarang_Foundation | fct_student_global_sar | school_area              | STRING      |\\n| 797 | antarang-dashboard | dalgo_DBT_Antarang_Foundation | fct_student_global_sar | batch_donor_id           | STRING      |\\n| 798 | antarang-dashboard | dalgo_DBT_Antarang_Foundation | fct_student_global_sar | donor_id                 | STRING      |\\n| 799 | antarang-dashboard | dalgo_DBT_Antarang_Foundation | fct_student_global_sar | batch_donor              | STRING      |\\n| 800 | antarang-dashboard | dalgo_DBT_Antarang_Foundation | fct_student_global_sar | sar_id                   | STRING      |\\n| 801 | antarang-dashboard | dalgo_DBT_Antarang_Foundation | fct_student_global_sar | assessment_barcode       | STRING      |\\n| 802 | antarang-dashboard | dalgo_DBT_Antarang_Foundation | fct_student_global_sar | record_type              | STRING      |\\n| 803 | antarang-dashboard | dalgo_DBT_Antarang_Foundation | fct_student_global_sar | created_on               | TIMESTAMP   |\\n| 804 | antarang-dashboard | dalgo_DBT_Antarang_Foundation | fct_student_global_sar | created_from_form        | BOOL        |\\n| 805 | antarang-dashboard | dalgo_DBT_Antarang_Foundation | fct_student_global_sar | sar_no                   | STRING      |\\n| 806 | antarang-dashboard | dalgo_DBT_Antarang_Foundation | fct_student_global_sar | is_non_null              | INT64       |\\n| 807 | antarang-dashboard | dalgo_DBT_Antarang_Foundation | fct_student_global_sar | sar_atleast_one_quiz     | INT64       |\\n| 808 | antarang-dashboard | dalgo_DBT_Antarang_Foundation | fct_student_global_sar | sar_atleast_one_reality  | INT64       |\\n| 809 | antarang-dashboard | dalgo_DBT_Antarang_Foundation | fct_student_global_sar | assessment_grade         | STRING      |\\n| 810 | antarang-dashboard | dalgo_DBT_Antarang_Foundation | fct_student_global_sar | assessment_academic_year | STRING      |\\n| 811 | antarang-dashboard | dalgo_DBT_Antarang_Foundation | fct_student_global_sar | assessment_batch_id      | STRING      |\\n| 812 | antarang-dashboard | dalgo_DBT_Antarang_Foundation | fct_student_global_sar | q2_submitted             | BOOL        |\\n| 813 | antarang-dashboard | dalgo_DBT_Antarang_Foundation | fct_student_global_sar | reality_submitted        | BOOL        |\\n| 814 | antarang-dashboard | dalgo_DBT_Antarang_Foundation | fct_student_global_sar | sar_q1                   | STRING      |\\n| 815 | antarang-dashboard | dalgo_DBT_Antarang_Foundation | fct_student_global_sar | sar_q1_marks             | NUMERIC     |\\n| 816 | antarang-dashboard | dalgo_DBT_Antarang_Foundation | fct_student_global_sar | sar_q2                   | STRING      |\\n| 817 | antarang-dashboard | dalgo_DBT_Antarang_Foundation | fct_student_global_sar | sar_q2_marks             | NUMERIC     |\\n| 818 | antarang-dashboard | dalgo_DBT_Antarang_Foundation | fct_student_global_sar | sar_q3                   | STRING      |\\n| 819 | antarang-dashboard | dalgo_DBT_Antarang_Foundation | fct_student_global_sar | sar_q3_marks             | NUMERIC     |\\n| 820 | antarang-dashboard | dalgo_DBT_Antarang_Foundation | fct_student_global_sar | sar_q4                   | STRING      |\\n| 821 | antarang-dashboard | dalgo_DBT_Antarang_Foundation | fct_student_global_sar | sar_q4_marks             | NUMERIC     |\\n| 822 | antarang-dashboard | dalgo_DBT_Antarang_Foundation | fct_student_global_sar | sar_q5                   | STRING      |\\n| 823 | antarang-dashboard | dalgo_DBT_Antarang_Foundation | fct_student_global_sar | sar_q5_marks             | NUMERIC     |\\n| 824 | antarang-dashboard | dalgo_DBT_Antarang_Foundation | fct_student_global_sar | r1s1                     | STRING      |\\n| 825 | antarang-dashboard | dalgo_DBT_Antarang_Foundation | fct_student_global_sar | r1s1_marks               | STRING      |\\n| 826 | antarang-dashboard | dalgo_DBT_Antarang_Foundation | fct_student_global_sar | r2s2                     | STRING      |\\n| 827 | antarang-dashboard | dalgo_DBT_Antarang_Foundation | fct_student_global_sar | r2s2_marks               | STRING      |\\n| 828 | antarang-dashboard | dalgo_DBT_Antarang_Foundation | fct_student_global_sar | r3s3                     | STRING      |\\n| 829 | antarang-dashboard | dalgo_DBT_Antarang_Foundation | fct_student_global_sar | r3s3_marks               | STRING      |\\n| 830 | antarang-dashboard | dalgo_DBT_Antarang_Foundation | fct_student_global_sar | r4s4                     | STRING      |\\n| 831 | antarang-dashboard | dalgo_DBT_Antarang_Foundation | fct_student_global_sar | r4s4_marks               | STRING      |\\n| 832 | antarang-dashboard | dalgo_DBT_Antarang_Foundation | fct_student_global_sar | r5f1                     | STRING      |\\n| 833 | antarang-dashboard | dalgo_DBT_Antarang_Foundation | fct_student_global_sar | r5f1_marks               | STRING      |\\n| 834 | antarang-dashboard | dalgo_DBT_Antarang_Foundation | fct_student_global_sar | r6f2                     | STRING      |\\n| 835 | antarang-dashboard | dalgo_DBT_Antarang_Foundation | fct_student_global_sar | r6f2_marks               | STRING      |\\n| 836 | antarang-dashboard | dalgo_DBT_Antarang_Foundation | fct_student_global_sar | r7f3                     | STRING      |\\n| 837 | antarang-dashboard | dalgo_DBT_Antarang_Foundation | fct_student_global_sar | r7f3_marks               | STRING      |\\n| 838 | antarang-dashboard | dalgo_DBT_Antarang_Foundation | fct_student_global_sar | r8f4                     | STRING      |\\n| 839 | antarang-dashboard | dalgo_DBT_Antarang_Foundation | fct_student_global_sar | r8f4_marks               | STRING      |\\n\\nThe following columns are in the stg_school table in the antarang-dashboard database:\\n\\n|      | table_catalog      | table_schema                  | table_name   | column_name            | data_type   |\\n|-----:|:-------------------|:------------------------------|:-------------|:-----------------------|:------------|\\n| 3758 | antarang-dashboard | dalgo_DBT_Antarang_Foundation | stg_school   | school_id              | STRING      |\\n| 3759 | antarang-dashboard | dalgo_DBT_Antarang_Foundation | stg_school   | school_name            | STRING      |\\n| 3760 | antarang-dashboard | dalgo_DBT_Antarang_Foundation | stg_school   | school_language        | STRING      |\\n| 3761 | antarang-dashboard | dalgo_DBT_Antarang_Foundation | stg_school   | school_academic_year   | STRING      |\\n| 3762 | antarang-dashboard | dalgo_DBT_Antarang_Foundation | stg_school   | school_timing          | STRING      |\\n| 3763 | antarang-dashboard | dalgo_DBT_Antarang_Foundation | stg_school   | school_partner         | STRING      |\\n| 3764 | antarang-dashboard | dalgo_DBT_Antarang_Foundation | stg_school   | enrolled_g9            | NUMERIC     |\\n| 3765 | antarang-dashboard | dalgo_DBT_Antarang_Foundation | stg_school   | enrolled_g10           | NUMERIC     |\\n| 3766 | antarang-dashboard | dalgo_DBT_Antarang_Foundation | stg_school   | enrolled_g11           | NUMERIC     |\\n| 3767 | antarang-dashboard | dalgo_DBT_Antarang_Foundation | stg_school   | enrolled_g12           | NUMERIC     |\\n| 3768 | antarang-dashboard | dalgo_DBT_Antarang_Foundation | stg_school   | tagged_for_counselling | STRING      |\\n| 3769 | antarang-dashboard | dalgo_DBT_Antarang_Foundation | stg_school   | school_area            | STRING      |\\n| 3770 | antarang-dashboard | dalgo_DBT_Antarang_Foundation | stg_school   | record_type            | STRING      |\\n| 3771 | antarang-dashboard | dalgo_DBT_Antarang_Foundation | stg_school   | school_state           | STRING      |\\n| 3772 | antarang-dashboard | dalgo_DBT_Antarang_Foundation | stg_school   | school_district        | STRING      |\\n| 3773 | antarang-dashboard | dalgo_DBT_Antarang_Foundation | stg_school   | school_ward            | STRING      |\\n| 3774 | antarang-dashboard | dalgo_DBT_Antarang_Foundation | stg_school   | school_taluka          | STRING      |\\n\\nThe following columns are in the int_student_global_stg_sar table in the antarang-dashboard database:\\n\\n|      | table_catalog      | table_schema                  | table_name                 | column_name              | data_type   |\\n|-----:|:-------------------|:------------------------------|:---------------------------|:-------------------------|:------------|\\n| 1109 | antarang-dashboard | dalgo_DBT_Antarang_Foundation | int_student_global_stg_sar | student_id               | STRING      |\\n| 1110 | antarang-dashboard | dalgo_DBT_Antarang_Foundation | int_student_global_stg_sar | student_barcode          | STRING      |\\n| 1111 | antarang-dashboard | dalgo_DBT_Antarang_Foundation | int_student_global_stg_sar | student_grade            | STRING      |\\n| 1112 | antarang-dashboard | dalgo_DBT_Antarang_Foundation | int_student_global_stg_sar | student_batch_id         | STRING      |\\n| 1113 | antarang-dashboard | dalgo_DBT_Antarang_Foundation | int_student_global_stg_sar | gender                   | STRING      |\\n| 1114 | antarang-dashboard | dalgo_DBT_Antarang_Foundation | int_student_global_stg_sar | batch_no                 | STRING      |\\n| 1115 | antarang-dashboard | dalgo_DBT_Antarang_Foundation | int_student_global_stg_sar | batch_academic_year      | NUMERIC     |\\n| 1116 | antarang-dashboard | dalgo_DBT_Antarang_Foundation | int_student_global_stg_sar | school_academic_year     | STRING      |\\n| 1117 | antarang-dashboard | dalgo_DBT_Antarang_Foundation | int_student_global_stg_sar | batch_grade              | STRING      |\\n| 1118 | antarang-dashboard | dalgo_DBT_Antarang_Foundation | int_student_global_stg_sar | batch_language           | STRING      |\\n| 1119 | antarang-dashboard | dalgo_DBT_Antarang_Foundation | int_student_global_stg_sar | fac_start_date           | TIMESTAMP   |\\n| 1120 | antarang-dashboard | dalgo_DBT_Antarang_Foundation | int_student_global_stg_sar | school_language          | STRING      |\\n| 1121 | antarang-dashboard | dalgo_DBT_Antarang_Foundation | int_student_global_stg_sar | facilitator_name         | STRING      |\\n| 1122 | antarang-dashboard | dalgo_DBT_Antarang_Foundation | int_student_global_stg_sar | facilitator_email        | STRING      |\\n| 1123 | antarang-dashboard | dalgo_DBT_Antarang_Foundation | int_student_global_stg_sar | school_name              | STRING      |\\n| 1124 | antarang-dashboard | dalgo_DBT_Antarang_Foundation | int_student_global_stg_sar | school_taluka            | STRING      |\\n| 1125 | antarang-dashboard | dalgo_DBT_Antarang_Foundation | int_student_global_stg_sar | school_ward              | STRING      |\\n| 1126 | antarang-dashboard | dalgo_DBT_Antarang_Foundation | int_student_global_stg_sar | school_district          | STRING      |\\n| 1127 | antarang-dashboard | dalgo_DBT_Antarang_Foundation | int_student_global_stg_sar | school_state             | STRING      |\\n| 1128 | antarang-dashboard | dalgo_DBT_Antarang_Foundation | int_student_global_stg_sar | school_partner           | STRING      |\\n| 1129 | antarang-dashboard | dalgo_DBT_Antarang_Foundation | int_student_global_stg_sar | school_area              | STRING      |\\n| 1130 | antarang-dashboard | dalgo_DBT_Antarang_Foundation | int_student_global_stg_sar | batch_donor              | STRING      |\\n| 1131 | antarang-dashboard | dalgo_DBT_Antarang_Foundation | int_student_global_stg_sar | sar_id                   | STRING      |\\n| 1132 | antarang-dashboard | dalgo_DBT_Antarang_Foundation | int_student_global_stg_sar | assessment_barcode       | STRING      |\\n| 1133 | antarang-dashboard | dalgo_DBT_Antarang_Foundation | int_student_global_stg_sar | record_type              | STRING      |\\n| 1134 | antarang-dashboard | dalgo_DBT_Antarang_Foundation | int_student_global_stg_sar | created_on               | TIMESTAMP   |\\n| 1135 | antarang-dashboard | dalgo_DBT_Antarang_Foundation | int_student_global_stg_sar | created_from_form        | BOOL        |\\n| 1136 | antarang-dashboard | dalgo_DBT_Antarang_Foundation | int_student_global_stg_sar | sar_no                   | STRING      |\\n| 1137 | antarang-dashboard | dalgo_DBT_Antarang_Foundation | int_student_global_stg_sar | is_non_null              | INT64       |\\n| 1138 | antarang-dashboard | dalgo_DBT_Antarang_Foundation | int_student_global_stg_sar | sar_atleast_one_quiz     | INT64       |\\n| 1139 | antarang-dashboard | dalgo_DBT_Antarang_Foundation | int_student_global_stg_sar | sar_atleast_one_reality  | INT64       |\\n| 1140 | antarang-dashboard | dalgo_DBT_Antarang_Foundation | int_student_global_stg_sar | assessment_grade         | STRING      |\\n| 1141 | antarang-dashboard | dalgo_DBT_Antarang_Foundation | int_student_global_stg_sar | assessment_academic_year | STRING      |\\n| 1142 | antarang-dashboard | dalgo_DBT_Antarang_Foundation | int_student_global_stg_sar | assessment_batch_id      | STRING      |\\n| 1143 | antarang-dashboard | dalgo_DBT_Antarang_Foundation | int_student_global_stg_sar | q2_submitted             | BOOL        |\\n| 1144 | antarang-dashboard | dalgo_DBT_Antarang_Foundation | int_student_global_stg_sar | reality_submitted        | BOOL        |\\n| 1145 | antarang-dashboard | dalgo_DBT_Antarang_Foundation | int_student_global_stg_sar | sar_q1                   | STRING      |\\n| 1146 | antarang-dashboard | dalgo_DBT_Antarang_Foundation | int_student_global_stg_sar | sar_q1_marks             | NUMERIC     |\\n| 1147 | antarang-dashboard | dalgo_DBT_Antarang_Foundation | int_student_global_stg_sar | sar_q2                   | STRING      |\\n| 1148 | antarang-dashboard | dalgo_DBT_Antarang_Foundation | int_student_global_stg_sar | sar_q2_marks             | NUMERIC     |\\n| 1149 | antarang-dashboard | dalgo_DBT_Antarang_Foundation | int_student_global_stg_sar | sar_q3                   | STRING      |\\n| 1150 | antarang-dashboard | dalgo_DBT_Antarang_Foundation | int_student_global_stg_sar | sar_q3_marks             | NUMERIC     |\\n| 1151 | antarang-dashboard | dalgo_DBT_Antarang_Foundation | int_student_global_stg_sar | sar_q4                   | STRING      |\\n| 1152 | antarang-dashboard | dalgo_DBT_Antarang_Foundation | int_student_global_stg_sar | sar_q4_marks             | NUMERIC     |\\n| 1153 | antarang-dashboard | dalgo_DBT_Antarang_Foundation | int_student_global_stg_sar | sar_q5                   | STRING      |\\n| 1154 | antarang-dashboard | dalgo_DBT_Antarang_Foundation | int_student_global_stg_sar | sar_q5_marks             | NUMERIC     |\\n| 1155 | antarang-dashboard | dalgo_DBT_Antarang_Foundation | int_student_global_stg_sar | r1s1                     | STRING      |\\n| 1156 | antarang-dashboard | dalgo_DBT_Antarang_Foundation | int_student_global_stg_sar | r1s1_marks               | STRING      |\\n| 1157 | antarang-dashboard | dalgo_DBT_Antarang_Foundation | int_student_global_stg_sar | r2s2                     | STRING      |\\n| 1158 | antarang-dashboard | dalgo_DBT_Antarang_Foundation | int_student_global_stg_sar | r2s2_marks               | STRING      |\\n| 1159 | antarang-dashboard | dalgo_DBT_Antarang_Foundation | int_student_global_stg_sar | r3s3                     | STRING      |\\n| 1160 | antarang-dashboard | dalgo_DBT_Antarang_Foundation | int_student_global_stg_sar | r3s3_marks               | STRING      |\\n| 1161 | antarang-dashboard | dalgo_DBT_Antarang_Foundation | int_student_global_stg_sar | r4s4                     | STRING      |\\n| 1162 | antarang-dashboard | dalgo_DBT_Antarang_Foundation | int_student_global_stg_sar | r4s4_marks               | STRING      |\\n| 1163 | antarang-dashboard | dalgo_DBT_Antarang_Foundation | int_student_global_stg_sar | r5f1                     | STRING      |\\n| 1164 | antarang-dashboard | dalgo_DBT_Antarang_Foundation | int_student_global_stg_sar | r5f1_marks               | STRING      |\\n| 1165 | antarang-dashboard | dalgo_DBT_Antarang_Foundation | int_student_global_stg_sar | r6f2                     | STRING      |\\n| 1166 | antarang-dashboard | dalgo_DBT_Antarang_Foundation | int_student_global_stg_sar | r6f2_marks               | STRING      |\\n| 1167 | antarang-dashboard | dalgo_DBT_Antarang_Foundation | int_student_global_stg_sar | r7f3                     | STRING      |\\n| 1168 | antarang-dashboard | dalgo_DBT_Antarang_Foundation | int_student_global_stg_sar | r7f3_marks               | STRING      |\\n| 1169 | antarang-dashboard | dalgo_DBT_Antarang_Foundation | int_student_global_stg_sar | r8f4                     | STRING      |\\n| 1170 | antarang-dashboard | dalgo_DBT_Antarang_Foundation | int_student_global_stg_sar | r8f4_marks               | STRING      |\\n| 1171 | antarang-dashboard | dalgo_DBT_Antarang_Foundation | int_student_global_stg_sar | error_status             | STRING      |\\n| 1172 | antarang-dashboard | dalgo_DBT_Antarang_Foundation | int_student_global_stg_sar | data_cleanup             | BOOL        |\\n| 1173 | antarang-dashboard | dalgo_DBT_Antarang_Foundation | int_student_global_stg_sar | marks_recalculated       | BOOL        |\\n| 1174 | antarang-dashboard | dalgo_DBT_Antarang_Foundation | int_student_global_stg_sar | student_linked           | BOOL        |\\n\\nThe following columns are in the student_global_assessment_status_metadata table in the antarang-dashboard database:\\n\\n|      | table_catalog      | table_schema                  | table_name                                | column_name     | data_type   |\\n|-----:|:-------------------|:------------------------------|:------------------------------------------|:----------------|:------------|\\n| 7281 | antarang-dashboard | dalgo_DBT_Antarang_Foundation | student_global_assessment_status_metadata | table_name      | STRING      |\\n| 7282 | antarang-dashboard | dalgo_DBT_Antarang_Foundation | student_global_assessment_status_metadata | column_name     | STRING      |\\n| 7283 | antarang-dashboard | dalgo_DBT_Antarang_Foundation | student_global_assessment_status_metadata | total_records   | INT64       |\\n| 7284 | antarang-dashboard | dalgo_DBT_Antarang_Foundation | student_global_assessment_status_metadata | null_count      | INT64       |\\n| 7285 | antarang-dashboard | dalgo_DBT_Antarang_Foundation | student_global_assessment_status_metadata | nonnull_count   | INT64       |\\n| 7286 | antarang-dashboard | dalgo_DBT_Antarang_Foundation | student_global_assessment_status_metadata | distinct_count  | INT64       |\\n| 7287 | antarang-dashboard | dalgo_DBT_Antarang_Foundation | student_global_assessment_status_metadata | duplicate_count | INT64       |\\n| 7288 | antarang-dashboard | dalgo_DBT_Antarang_Foundation | student_global_assessment_status_metadata | pct_null        | FLOAT64     |\\n| 7289 | antarang-dashboard | dalgo_DBT_Antarang_Foundation | student_global_assessment_status_metadata | pct_nonnull     | FLOAT64     |\\n| 7290 | antarang-dashboard | dalgo_DBT_Antarang_Foundation | student_global_assessment_status_metadata | pct_distinct    | FLOAT64     |\\n| 7291 | antarang-dashboard | dalgo_DBT_Antarang_Foundation | student_global_assessment_status_metadata | pct_duplicate   | FLOAT64     |\\n\\nThe following columns are in the fct_global_reach table in the antarang-dashboard database:\\n\\n|      | table_catalog      | table_schema                  | table_name       | column_name                 | data_type   |\\n|-----:|:-------------------|:------------------------------|:-----------------|:----------------------------|:------------|\\n| 1273 | antarang-dashboard | dalgo_DBT_Antarang_Foundation | fct_global_reach | batch_no                    | STRING      |\\n| 1274 | antarang-dashboard | dalgo_DBT_Antarang_Foundation | fct_global_reach | batch_academic_year         | NUMERIC     |\\n| 1275 | antarang-dashboard | dalgo_DBT_Antarang_Foundation | fct_global_reach | total_student_beneficiaries | INT64       |\\n\\nThe following columns are in the seed_state table in the antarang-dashboard database:\\n\\n|      | table_catalog      | table_schema                  | table_name   | column_name   | data_type   |\\n|-----:|:-------------------|:------------------------------|:-------------|:--------------|:------------|\\n| 1353 | antarang-dashboard | dalgo_DBT_Antarang_Foundation | seed_state   | state_id      | STRING      |\\n| 1354 | antarang-dashboard | dalgo_DBT_Antarang_Foundation | seed_state   | state_name    | STRING      |\\n| 1355 | antarang-dashboard | dalgo_DBT_Antarang_Foundation | seed_state   | state_code    | INT64       |\\n\\n===Response Guidelines \\n1. If the provided context is sufficient, please generate a valid SQL query without any explanations for the question. \\n2. If the provided context is almost sufficient but requires knowledge of a specific string in a particular column, please generate an intermediate SQL query to find the distinct strings in that column. Prepend the query with a comment saying intermediate_sql \\n3. If the provided context is insufficient, please explain why it can't be generated. \\n4. Please use the most relevant table(s). \\n5. If the question has been asked and answered before, please repeat the answer exactly as it was given before. \\n6. Ensure that the output SQL is BigQuery SQL-compliant and executable, and free of syntax errors. \\n\"}, {'role': 'user', 'content': 'how many schools does antarang operate in?'}]\n",
      "Using model gpt-4o-mini for 6460.75 tokens (approx)\n",
      "LLM Response: ```sql\n",
      "SELECT COUNT(DISTINCT school_id) AS total_schools\n",
      "FROM stg_school;\n",
      "```\n",
      "Extracted SQL: SELECT COUNT(DISTINCT school_id) AS total_schools\n",
      "FROM stg_school;\n"
     ]
    }
   ],
   "source": [
    "response = vn.generate_sql(question=questions[2], allow_llm_to_see_data=False)"
   ]
  },
  {
   "cell_type": "code",
   "execution_count": 101,
   "id": "ddad991d-7b03-4741-93e4-ce09ba43a3b3",
   "metadata": {},
   "outputs": [
    {
     "name": "stdout",
     "output_type": "stream",
     "text": [
      "SELECT COUNT(DISTINCT school_id) AS total_schools\n",
      "FROM stg_school;\n"
     ]
    }
   ],
   "source": [
    "print(response)"
   ]
  },
  {
   "cell_type": "code",
   "execution_count": 102,
   "id": "9fd568fe-b330-4aaf-9a28-165a60c9c9e9",
   "metadata": {},
   "outputs": [
    {
     "data": {
      "text/plain": [
       "'what are the different aspects on which children are mentored and graded?'"
      ]
     },
     "execution_count": 102,
     "metadata": {},
     "output_type": "execute_result"
    }
   ],
   "source": [
    "questions[1]"
   ]
  },
  {
   "cell_type": "code",
   "execution_count": 103,
   "id": "b2c94a13-3aa4-44c1-b07e-2889e657358d",
   "metadata": {},
   "outputs": [
    {
     "name": "stdout",
     "output_type": "stream",
     "text": [
      "SQL Prompt: [{'role': 'system', 'content': \"You are a BigQuery SQL expert. Please help to generate a SQL query to answer the question. Your response should ONLY be based on the given context and follow the response guidelines and format instructions. \\n===Additional Context \\n\\n\\nantarang does skills development and career counseling for their students\\n\\n\\n\\nantarang runs after-school programs for disadvantaged youth in indian cities\\n\\n\\nThe following columns are in the student_global_assessment_status_metadata table in the antarang-dashboard database:\\n\\n|      | table_catalog      | table_schema                  | table_name                                | column_name     | data_type   |\\n|-----:|:-------------------|:------------------------------|:------------------------------------------|:----------------|:------------|\\n| 7281 | antarang-dashboard | dalgo_DBT_Antarang_Foundation | student_global_assessment_status_metadata | table_name      | STRING      |\\n| 7282 | antarang-dashboard | dalgo_DBT_Antarang_Foundation | student_global_assessment_status_metadata | column_name     | STRING      |\\n| 7283 | antarang-dashboard | dalgo_DBT_Antarang_Foundation | student_global_assessment_status_metadata | total_records   | INT64       |\\n| 7284 | antarang-dashboard | dalgo_DBT_Antarang_Foundation | student_global_assessment_status_metadata | null_count      | INT64       |\\n| 7285 | antarang-dashboard | dalgo_DBT_Antarang_Foundation | student_global_assessment_status_metadata | nonnull_count   | INT64       |\\n| 7286 | antarang-dashboard | dalgo_DBT_Antarang_Foundation | student_global_assessment_status_metadata | distinct_count  | INT64       |\\n| 7287 | antarang-dashboard | dalgo_DBT_Antarang_Foundation | student_global_assessment_status_metadata | duplicate_count | INT64       |\\n| 7288 | antarang-dashboard | dalgo_DBT_Antarang_Foundation | student_global_assessment_status_metadata | pct_null        | FLOAT64     |\\n| 7289 | antarang-dashboard | dalgo_DBT_Antarang_Foundation | student_global_assessment_status_metadata | pct_nonnull     | FLOAT64     |\\n| 7290 | antarang-dashboard | dalgo_DBT_Antarang_Foundation | student_global_assessment_status_metadata | pct_distinct    | FLOAT64     |\\n| 7291 | antarang-dashboard | dalgo_DBT_Antarang_Foundation | student_global_assessment_status_metadata | pct_duplicate   | FLOAT64     |\\n\\nThe following columns are in the stg_assessment_marks table in the antarang-dashboard database:\\n\\n|     | table_catalog      | table_schema                  | table_name           | column_name                 | data_type   |\\n|----:|:-------------------|:------------------------------|:---------------------|:----------------------------|:------------|\\n| 955 | antarang-dashboard | dalgo_DBT_Antarang_Foundation | stg_assessment_marks | percentage_student_ca_track | NUMERIC     |\\n| 956 | antarang-dashboard | dalgo_DBT_Antarang_Foundation | stg_assessment_marks | percentage_student_cp_track | BOOL        |\\n| 957 | antarang-dashboard | dalgo_DBT_Antarang_Foundation | stg_assessment_marks | percentage_student_sa_track | NUMERIC     |\\n| 958 | antarang-dashboard | dalgo_DBT_Antarang_Foundation | stg_assessment_marks | assessment_marks_number     | STRING      |\\n| 959 | antarang-dashboard | dalgo_DBT_Antarang_Foundation | stg_assessment_marks | assessment_record_type      | STRING      |\\n| 960 | antarang-dashboard | dalgo_DBT_Antarang_Foundation | stg_assessment_marks | assessment_student_id       | STRING      |\\n| 961 | antarang-dashboard | dalgo_DBT_Antarang_Foundation | stg_assessment_marks | total_marks                 | NUMERIC     |\\n\\nThe following columns are in the student_global_assessment_metadata table in the antarang-dashboard database:\\n\\n|      | table_catalog      | table_schema                  | table_name                         | column_name     | data_type   |\\n|-----:|:-------------------|:------------------------------|:-----------------------------------|:----------------|:------------|\\n| 3642 | antarang-dashboard | dalgo_DBT_Antarang_Foundation | student_global_assessment_metadata | table_name      | STRING      |\\n| 3643 | antarang-dashboard | dalgo_DBT_Antarang_Foundation | student_global_assessment_metadata | column_name     | STRING      |\\n| 3644 | antarang-dashboard | dalgo_DBT_Antarang_Foundation | student_global_assessment_metadata | total_records   | INT64       |\\n| 3645 | antarang-dashboard | dalgo_DBT_Antarang_Foundation | student_global_assessment_metadata | null_count      | INT64       |\\n| 3646 | antarang-dashboard | dalgo_DBT_Antarang_Foundation | student_global_assessment_metadata | nonnull_count   | INT64       |\\n| 3647 | antarang-dashboard | dalgo_DBT_Antarang_Foundation | student_global_assessment_metadata | distinct_count  | INT64       |\\n| 3648 | antarang-dashboard | dalgo_DBT_Antarang_Foundation | student_global_assessment_metadata | duplicate_count | INT64       |\\n| 3649 | antarang-dashboard | dalgo_DBT_Antarang_Foundation | student_global_assessment_metadata | pct_null        | FLOAT64     |\\n| 3650 | antarang-dashboard | dalgo_DBT_Antarang_Foundation | student_global_assessment_metadata | pct_nonnull     | FLOAT64     |\\n| 3651 | antarang-dashboard | dalgo_DBT_Antarang_Foundation | student_global_assessment_metadata | pct_distinct    | FLOAT64     |\\n| 3652 | antarang-dashboard | dalgo_DBT_Antarang_Foundation | student_global_assessment_metadata | pct_duplicate   | FLOAT64     |\\n\\nThe following columns are in the fct_student_global_assessment_status table in the antarang-dashboard database:\\n\\n|      | table_catalog      | table_schema                  | table_name                           | column_name                       | data_type   |\\n|-----:|:-------------------|:------------------------------|:-------------------------------------|:----------------------------------|:------------|\\n| 6477 | antarang-dashboard | dalgo_DBT_Antarang_Foundation | fct_student_global_assessment_status | student_barcode                   | STRING      |\\n| 6478 | antarang-dashboard | dalgo_DBT_Antarang_Foundation | fct_student_global_assessment_status | student_grade                     | STRING      |\\n| 6479 | antarang-dashboard | dalgo_DBT_Antarang_Foundation | fct_student_global_assessment_status | gender                            | STRING      |\\n| 6480 | antarang-dashboard | dalgo_DBT_Antarang_Foundation | fct_student_global_assessment_status | batch_id                          | STRING      |\\n| 6481 | antarang-dashboard | dalgo_DBT_Antarang_Foundation | fct_student_global_assessment_status | batch_no                          | STRING      |\\n| 6482 | antarang-dashboard | dalgo_DBT_Antarang_Foundation | fct_student_global_assessment_status | batch_academic_year               | NUMERIC     |\\n| 6483 | antarang-dashboard | dalgo_DBT_Antarang_Foundation | fct_student_global_assessment_status | no_of_students_facilitated        | NUMERIC     |\\n| 6484 | antarang-dashboard | dalgo_DBT_Antarang_Foundation | fct_student_global_assessment_status | batch_grade                       | STRING      |\\n| 6485 | antarang-dashboard | dalgo_DBT_Antarang_Foundation | fct_student_global_assessment_status | batch_language                    | STRING      |\\n| 6486 | antarang-dashboard | dalgo_DBT_Antarang_Foundation | fct_student_global_assessment_status | fac_start_date                    | TIMESTAMP   |\\n| 6487 | antarang-dashboard | dalgo_DBT_Antarang_Foundation | fct_student_global_assessment_status | facilitator_name                  | STRING      |\\n| 6488 | antarang-dashboard | dalgo_DBT_Antarang_Foundation | fct_student_global_assessment_status | facilitator_email                 | STRING      |\\n| 6489 | antarang-dashboard | dalgo_DBT_Antarang_Foundation | fct_student_global_assessment_status | school_name                       | STRING      |\\n| 6490 | antarang-dashboard | dalgo_DBT_Antarang_Foundation | fct_student_global_assessment_status | school_academic_year              | STRING      |\\n| 6491 | antarang-dashboard | dalgo_DBT_Antarang_Foundation | fct_student_global_assessment_status | school_language                   | STRING      |\\n| 6492 | antarang-dashboard | dalgo_DBT_Antarang_Foundation | fct_student_global_assessment_status | school_taluka                     | STRING      |\\n| 6493 | antarang-dashboard | dalgo_DBT_Antarang_Foundation | fct_student_global_assessment_status | school_ward                       | STRING      |\\n| 6494 | antarang-dashboard | dalgo_DBT_Antarang_Foundation | fct_student_global_assessment_status | school_district                   | STRING      |\\n| 6495 | antarang-dashboard | dalgo_DBT_Antarang_Foundation | fct_student_global_assessment_status | school_state                      | STRING      |\\n| 6496 | antarang-dashboard | dalgo_DBT_Antarang_Foundation | fct_student_global_assessment_status | school_partner                    | STRING      |\\n| 6497 | antarang-dashboard | dalgo_DBT_Antarang_Foundation | fct_student_global_assessment_status | school_area                       | STRING      |\\n| 6498 | antarang-dashboard | dalgo_DBT_Antarang_Foundation | fct_student_global_assessment_status | batch_donor                       | STRING      |\\n| 6499 | antarang-dashboard | dalgo_DBT_Antarang_Foundation | fct_student_global_assessment_status | assessment_barcode                | STRING      |\\n| 6500 | antarang-dashboard | dalgo_DBT_Antarang_Foundation | fct_student_global_assessment_status | assessment_grade                  | STRING      |\\n| 6501 | antarang-dashboard | dalgo_DBT_Antarang_Foundation | fct_student_global_assessment_status | assessment_academic_year          | STRING      |\\n| 6502 | antarang-dashboard | dalgo_DBT_Antarang_Foundation | fct_student_global_assessment_status | created_from_form                 | BOOL        |\\n| 6503 | antarang-dashboard | dalgo_DBT_Antarang_Foundation | fct_student_global_assessment_status | submissions                       | STRING      |\\n| 6504 | antarang-dashboard | dalgo_DBT_Antarang_Foundation | fct_student_global_assessment_status | atleast_one_submission            | INT64       |\\n| 6505 | antarang-dashboard | dalgo_DBT_Antarang_Foundation | fct_student_global_assessment_status | atleast_one_assessment_submission | INT64       |\\n| 6506 | antarang-dashboard | dalgo_DBT_Antarang_Foundation | fct_student_global_assessment_status | atleast_one_quiz_submission       | INT64       |\\n| 6507 | antarang-dashboard | dalgo_DBT_Antarang_Foundation | fct_student_global_assessment_status | cdm1_status                       | STRING      |\\n| 6508 | antarang-dashboard | dalgo_DBT_Antarang_Foundation | fct_student_global_assessment_status | cdm2_status                       | STRING      |\\n| 6509 | antarang-dashboard | dalgo_DBT_Antarang_Foundation | fct_student_global_assessment_status | cp_status                         | STRING      |\\n| 6510 | antarang-dashboard | dalgo_DBT_Antarang_Foundation | fct_student_global_assessment_status | cs_status                         | STRING      |\\n| 6511 | antarang-dashboard | dalgo_DBT_Antarang_Foundation | fct_student_global_assessment_status | fp_status                         | STRING      |\\n| 6512 | antarang-dashboard | dalgo_DBT_Antarang_Foundation | fct_student_global_assessment_status | quiz_status                       | STRING      |\\n| 6513 | antarang-dashboard | dalgo_DBT_Antarang_Foundation | fct_student_global_assessment_status | bl_cdm1_no                        | STRING      |\\n| 6514 | antarang-dashboard | dalgo_DBT_Antarang_Foundation | fct_student_global_assessment_status | el_cdm1_no                        | STRING      |\\n| 6515 | antarang-dashboard | dalgo_DBT_Antarang_Foundation | fct_student_global_assessment_status | bl_cdm2_no                        | STRING      |\\n| 6516 | antarang-dashboard | dalgo_DBT_Antarang_Foundation | fct_student_global_assessment_status | el_cdm2_no                        | STRING      |\\n| 6517 | antarang-dashboard | dalgo_DBT_Antarang_Foundation | fct_student_global_assessment_status | bl_cp_no                          | STRING      |\\n| 6518 | antarang-dashboard | dalgo_DBT_Antarang_Foundation | fct_student_global_assessment_status | el_cp_no                          | STRING      |\\n| 6519 | antarang-dashboard | dalgo_DBT_Antarang_Foundation | fct_student_global_assessment_status | bl_cs_no                          | STRING      |\\n| 6520 | antarang-dashboard | dalgo_DBT_Antarang_Foundation | fct_student_global_assessment_status | el_cs_no                          | STRING      |\\n| 6521 | antarang-dashboard | dalgo_DBT_Antarang_Foundation | fct_student_global_assessment_status | bl_fp_no                          | STRING      |\\n| 6522 | antarang-dashboard | dalgo_DBT_Antarang_Foundation | fct_student_global_assessment_status | el_fp_no                          | STRING      |\\n| 6523 | antarang-dashboard | dalgo_DBT_Antarang_Foundation | fct_student_global_assessment_status | saf_no                            | STRING      |\\n| 6524 | antarang-dashboard | dalgo_DBT_Antarang_Foundation | fct_student_global_assessment_status | sar_no                            | STRING      |\\n| 6525 | antarang-dashboard | dalgo_DBT_Antarang_Foundation | fct_student_global_assessment_status | cdm1_bl_created_on                | TIMESTAMP   |\\n| 6526 | antarang-dashboard | dalgo_DBT_Antarang_Foundation | fct_student_global_assessment_status | cdm1_el_created_on                | TIMESTAMP   |\\n| 6527 | antarang-dashboard | dalgo_DBT_Antarang_Foundation | fct_student_global_assessment_status | cdm2_bl_created_on                | TIMESTAMP   |\\n| 6528 | antarang-dashboard | dalgo_DBT_Antarang_Foundation | fct_student_global_assessment_status | cdm2_el_created_on                | TIMESTAMP   |\\n| 6529 | antarang-dashboard | dalgo_DBT_Antarang_Foundation | fct_student_global_assessment_status | cp_bl_created_on                  | TIMESTAMP   |\\n| 6530 | antarang-dashboard | dalgo_DBT_Antarang_Foundation | fct_student_global_assessment_status | cp_el_created_on                  | TIMESTAMP   |\\n| 6531 | antarang-dashboard | dalgo_DBT_Antarang_Foundation | fct_student_global_assessment_status | cs_bl_created_on                  | TIMESTAMP   |\\n| 6532 | antarang-dashboard | dalgo_DBT_Antarang_Foundation | fct_student_global_assessment_status | cs_el_created_on                  | TIMESTAMP   |\\n| 6533 | antarang-dashboard | dalgo_DBT_Antarang_Foundation | fct_student_global_assessment_status | fp_bl_created_on                  | TIMESTAMP   |\\n| 6534 | antarang-dashboard | dalgo_DBT_Antarang_Foundation | fct_student_global_assessment_status | fp_el_created_on                  | TIMESTAMP   |\\n| 6535 | antarang-dashboard | dalgo_DBT_Antarang_Foundation | fct_student_global_assessment_status | saf_created_on                    | TIMESTAMP   |\\n| 6536 | antarang-dashboard | dalgo_DBT_Antarang_Foundation | fct_student_global_assessment_status | sar_created_on                    | TIMESTAMP   |\\n| 6537 | antarang-dashboard | dalgo_DBT_Antarang_Foundation | fct_student_global_assessment_status | cdm1_bl_is_non_null               | INT64       |\\n| 6538 | antarang-dashboard | dalgo_DBT_Antarang_Foundation | fct_student_global_assessment_status | cdm1_el_is_non_null               | INT64       |\\n| 6539 | antarang-dashboard | dalgo_DBT_Antarang_Foundation | fct_student_global_assessment_status | cdm2_bl_is_non_null               | INT64       |\\n| 6540 | antarang-dashboard | dalgo_DBT_Antarang_Foundation | fct_student_global_assessment_status | cdm2_el_is_non_null               | INT64       |\\n| 6541 | antarang-dashboard | dalgo_DBT_Antarang_Foundation | fct_student_global_assessment_status | cp_bl_is_non_null                 | INT64       |\\n| 6542 | antarang-dashboard | dalgo_DBT_Antarang_Foundation | fct_student_global_assessment_status | cp_el_is_non_null                 | INT64       |\\n| 6543 | antarang-dashboard | dalgo_DBT_Antarang_Foundation | fct_student_global_assessment_status | cs_bl_is_non_null                 | INT64       |\\n| 6544 | antarang-dashboard | dalgo_DBT_Antarang_Foundation | fct_student_global_assessment_status | cs_el_is_non_null                 | INT64       |\\n| 6545 | antarang-dashboard | dalgo_DBT_Antarang_Foundation | fct_student_global_assessment_status | fp_bl_is_non_null                 | INT64       |\\n| 6546 | antarang-dashboard | dalgo_DBT_Antarang_Foundation | fct_student_global_assessment_status | fp_el_is_non_null                 | INT64       |\\n| 6547 | antarang-dashboard | dalgo_DBT_Antarang_Foundation | fct_student_global_assessment_status | saf_is_non_null                   | INT64       |\\n| 6548 | antarang-dashboard | dalgo_DBT_Antarang_Foundation | fct_student_global_assessment_status | sar_is_non_null                   | INT64       |\\n| 6549 | antarang-dashboard | dalgo_DBT_Antarang_Foundation | fct_student_global_assessment_status | saf_atleast_one_interest          | INT64       |\\n| 6550 | antarang-dashboard | dalgo_DBT_Antarang_Foundation | fct_student_global_assessment_status | saf_atleast_one_aptitude          | INT64       |\\n| 6551 | antarang-dashboard | dalgo_DBT_Antarang_Foundation | fct_student_global_assessment_status | saf_atleast_one_quiz              | INT64       |\\n| 6552 | antarang-dashboard | dalgo_DBT_Antarang_Foundation | fct_student_global_assessment_status | saf_atleast_one_feedback          | INT64       |\\n| 6553 | antarang-dashboard | dalgo_DBT_Antarang_Foundation | fct_student_global_assessment_status | sar_atleast_one_quiz              | INT64       |\\n| 6554 | antarang-dashboard | dalgo_DBT_Antarang_Foundation | fct_student_global_assessment_status | sar_atleast_one_reality           | INT64       |\\n\\nThe following columns are in the int_student_global_assessment_status table in the antarang-dashboard database:\\n\\n|      | table_catalog      | table_schema                  | table_name                           | column_name                       | data_type   |\\n|-----:|:-------------------|:------------------------------|:-------------------------------------|:----------------------------------|:------------|\\n| 6800 | antarang-dashboard | dalgo_DBT_Antarang_Foundation | int_student_global_assessment_status | student_barcode                   | STRING      |\\n| 6801 | antarang-dashboard | dalgo_DBT_Antarang_Foundation | int_student_global_assessment_status | student_grade                     | STRING      |\\n| 6802 | antarang-dashboard | dalgo_DBT_Antarang_Foundation | int_student_global_assessment_status | gender                            | STRING      |\\n| 6803 | antarang-dashboard | dalgo_DBT_Antarang_Foundation | int_student_global_assessment_status | batch_id                          | STRING      |\\n| 6804 | antarang-dashboard | dalgo_DBT_Antarang_Foundation | int_student_global_assessment_status | batch_no                          | STRING      |\\n| 6805 | antarang-dashboard | dalgo_DBT_Antarang_Foundation | int_student_global_assessment_status | batch_academic_year               | NUMERIC     |\\n| 6806 | antarang-dashboard | dalgo_DBT_Antarang_Foundation | int_student_global_assessment_status | no_of_students_facilitated        | NUMERIC     |\\n| 6807 | antarang-dashboard | dalgo_DBT_Antarang_Foundation | int_student_global_assessment_status | batch_grade                       | STRING      |\\n| 6808 | antarang-dashboard | dalgo_DBT_Antarang_Foundation | int_student_global_assessment_status | batch_language                    | STRING      |\\n| 6809 | antarang-dashboard | dalgo_DBT_Antarang_Foundation | int_student_global_assessment_status | fac_start_date                    | TIMESTAMP   |\\n| 6810 | antarang-dashboard | dalgo_DBT_Antarang_Foundation | int_student_global_assessment_status | facilitator_name                  | STRING      |\\n| 6811 | antarang-dashboard | dalgo_DBT_Antarang_Foundation | int_student_global_assessment_status | facilitator_email                 | STRING      |\\n| 6812 | antarang-dashboard | dalgo_DBT_Antarang_Foundation | int_student_global_assessment_status | school_name                       | STRING      |\\n| 6813 | antarang-dashboard | dalgo_DBT_Antarang_Foundation | int_student_global_assessment_status | school_academic_year              | STRING      |\\n| 6814 | antarang-dashboard | dalgo_DBT_Antarang_Foundation | int_student_global_assessment_status | school_language                   | STRING      |\\n| 6815 | antarang-dashboard | dalgo_DBT_Antarang_Foundation | int_student_global_assessment_status | school_taluka                     | STRING      |\\n| 6816 | antarang-dashboard | dalgo_DBT_Antarang_Foundation | int_student_global_assessment_status | school_ward                       | STRING      |\\n| 6817 | antarang-dashboard | dalgo_DBT_Antarang_Foundation | int_student_global_assessment_status | school_district                   | STRING      |\\n| 6818 | antarang-dashboard | dalgo_DBT_Antarang_Foundation | int_student_global_assessment_status | school_state                      | STRING      |\\n| 6819 | antarang-dashboard | dalgo_DBT_Antarang_Foundation | int_student_global_assessment_status | school_partner                    | STRING      |\\n| 6820 | antarang-dashboard | dalgo_DBT_Antarang_Foundation | int_student_global_assessment_status | school_area                       | STRING      |\\n| 6821 | antarang-dashboard | dalgo_DBT_Antarang_Foundation | int_student_global_assessment_status | batch_donor                       | STRING      |\\n| 6822 | antarang-dashboard | dalgo_DBT_Antarang_Foundation | int_student_global_assessment_status | assessment_barcode                | STRING      |\\n| 6823 | antarang-dashboard | dalgo_DBT_Antarang_Foundation | int_student_global_assessment_status | assessment_grade                  | STRING      |\\n| 6824 | antarang-dashboard | dalgo_DBT_Antarang_Foundation | int_student_global_assessment_status | assessment_academic_year          | STRING      |\\n| 6825 | antarang-dashboard | dalgo_DBT_Antarang_Foundation | int_student_global_assessment_status | created_from_form                 | BOOL        |\\n| 6826 | antarang-dashboard | dalgo_DBT_Antarang_Foundation | int_student_global_assessment_status | submissions                       | STRING      |\\n| 6827 | antarang-dashboard | dalgo_DBT_Antarang_Foundation | int_student_global_assessment_status | atleast_one_submission            | INT64       |\\n| 6828 | antarang-dashboard | dalgo_DBT_Antarang_Foundation | int_student_global_assessment_status | atleast_one_assessment_submission | INT64       |\\n| 6829 | antarang-dashboard | dalgo_DBT_Antarang_Foundation | int_student_global_assessment_status | atleast_one_quiz_submission       | INT64       |\\n| 6830 | antarang-dashboard | dalgo_DBT_Antarang_Foundation | int_student_global_assessment_status | cdm1_status                       | STRING      |\\n| 6831 | antarang-dashboard | dalgo_DBT_Antarang_Foundation | int_student_global_assessment_status | cdm2_status                       | STRING      |\\n| 6832 | antarang-dashboard | dalgo_DBT_Antarang_Foundation | int_student_global_assessment_status | cp_status                         | STRING      |\\n| 6833 | antarang-dashboard | dalgo_DBT_Antarang_Foundation | int_student_global_assessment_status | cs_status                         | STRING      |\\n| 6834 | antarang-dashboard | dalgo_DBT_Antarang_Foundation | int_student_global_assessment_status | fp_status                         | STRING      |\\n| 6835 | antarang-dashboard | dalgo_DBT_Antarang_Foundation | int_student_global_assessment_status | quiz_status                       | STRING      |\\n| 6836 | antarang-dashboard | dalgo_DBT_Antarang_Foundation | int_student_global_assessment_status | bl_cdm1_no                        | STRING      |\\n| 6837 | antarang-dashboard | dalgo_DBT_Antarang_Foundation | int_student_global_assessment_status | el_cdm1_no                        | STRING      |\\n| 6838 | antarang-dashboard | dalgo_DBT_Antarang_Foundation | int_student_global_assessment_status | bl_cdm2_no                        | STRING      |\\n| 6839 | antarang-dashboard | dalgo_DBT_Antarang_Foundation | int_student_global_assessment_status | el_cdm2_no                        | STRING      |\\n| 6840 | antarang-dashboard | dalgo_DBT_Antarang_Foundation | int_student_global_assessment_status | bl_cp_no                          | STRING      |\\n| 6841 | antarang-dashboard | dalgo_DBT_Antarang_Foundation | int_student_global_assessment_status | el_cp_no                          | STRING      |\\n| 6842 | antarang-dashboard | dalgo_DBT_Antarang_Foundation | int_student_global_assessment_status | bl_cs_no                          | STRING      |\\n| 6843 | antarang-dashboard | dalgo_DBT_Antarang_Foundation | int_student_global_assessment_status | el_cs_no                          | STRING      |\\n| 6844 | antarang-dashboard | dalgo_DBT_Antarang_Foundation | int_student_global_assessment_status | bl_fp_no                          | STRING      |\\n| 6845 | antarang-dashboard | dalgo_DBT_Antarang_Foundation | int_student_global_assessment_status | el_fp_no                          | STRING      |\\n| 6846 | antarang-dashboard | dalgo_DBT_Antarang_Foundation | int_student_global_assessment_status | saf_no                            | STRING      |\\n| 6847 | antarang-dashboard | dalgo_DBT_Antarang_Foundation | int_student_global_assessment_status | sar_no                            | STRING      |\\n| 6848 | antarang-dashboard | dalgo_DBT_Antarang_Foundation | int_student_global_assessment_status | cdm1_bl_created_on                | TIMESTAMP   |\\n| 6849 | antarang-dashboard | dalgo_DBT_Antarang_Foundation | int_student_global_assessment_status | cdm1_el_created_on                | TIMESTAMP   |\\n| 6850 | antarang-dashboard | dalgo_DBT_Antarang_Foundation | int_student_global_assessment_status | cdm2_bl_created_on                | TIMESTAMP   |\\n| 6851 | antarang-dashboard | dalgo_DBT_Antarang_Foundation | int_student_global_assessment_status | cdm2_el_created_on                | TIMESTAMP   |\\n| 6852 | antarang-dashboard | dalgo_DBT_Antarang_Foundation | int_student_global_assessment_status | cp_bl_created_on                  | TIMESTAMP   |\\n| 6853 | antarang-dashboard | dalgo_DBT_Antarang_Foundation | int_student_global_assessment_status | cp_el_created_on                  | TIMESTAMP   |\\n| 6854 | antarang-dashboard | dalgo_DBT_Antarang_Foundation | int_student_global_assessment_status | cs_bl_created_on                  | TIMESTAMP   |\\n| 6855 | antarang-dashboard | dalgo_DBT_Antarang_Foundation | int_student_global_assessment_status | cs_el_created_on                  | TIMESTAMP   |\\n| 6856 | antarang-dashboard | dalgo_DBT_Antarang_Foundation | int_student_global_assessment_status | fp_bl_created_on                  | TIMESTAMP   |\\n| 6857 | antarang-dashboard | dalgo_DBT_Antarang_Foundation | int_student_global_assessment_status | fp_el_created_on                  | TIMESTAMP   |\\n| 6858 | antarang-dashboard | dalgo_DBT_Antarang_Foundation | int_student_global_assessment_status | saf_created_on                    | TIMESTAMP   |\\n| 6859 | antarang-dashboard | dalgo_DBT_Antarang_Foundation | int_student_global_assessment_status | sar_created_on                    | TIMESTAMP   |\\n| 6860 | antarang-dashboard | dalgo_DBT_Antarang_Foundation | int_student_global_assessment_status | cdm1_bl_is_non_null               | INT64       |\\n| 6861 | antarang-dashboard | dalgo_DBT_Antarang_Foundation | int_student_global_assessment_status | cdm1_el_is_non_null               | INT64       |\\n| 6862 | antarang-dashboard | dalgo_DBT_Antarang_Foundation | int_student_global_assessment_status | cdm2_bl_is_non_null               | INT64       |\\n| 6863 | antarang-dashboard | dalgo_DBT_Antarang_Foundation | int_student_global_assessment_status | cdm2_el_is_non_null               | INT64       |\\n| 6864 | antarang-dashboard | dalgo_DBT_Antarang_Foundation | int_student_global_assessment_status | cp_bl_is_non_null                 | INT64       |\\n| 6865 | antarang-dashboard | dalgo_DBT_Antarang_Foundation | int_student_global_assessment_status | cp_el_is_non_null                 | INT64       |\\n| 6866 | antarang-dashboard | dalgo_DBT_Antarang_Foundation | int_student_global_assessment_status | cs_bl_is_non_null                 | INT64       |\\n| 6867 | antarang-dashboard | dalgo_DBT_Antarang_Foundation | int_student_global_assessment_status | cs_el_is_non_null                 | INT64       |\\n| 6868 | antarang-dashboard | dalgo_DBT_Antarang_Foundation | int_student_global_assessment_status | fp_bl_is_non_null                 | INT64       |\\n| 6869 | antarang-dashboard | dalgo_DBT_Antarang_Foundation | int_student_global_assessment_status | fp_el_is_non_null                 | INT64       |\\n| 6870 | antarang-dashboard | dalgo_DBT_Antarang_Foundation | int_student_global_assessment_status | saf_is_non_null                   | INT64       |\\n| 6871 | antarang-dashboard | dalgo_DBT_Antarang_Foundation | int_student_global_assessment_status | sar_is_non_null                   | INT64       |\\n| 6872 | antarang-dashboard | dalgo_DBT_Antarang_Foundation | int_student_global_assessment_status | saf_atleast_one_interest          | INT64       |\\n| 6873 | antarang-dashboard | dalgo_DBT_Antarang_Foundation | int_student_global_assessment_status | saf_atleast_one_aptitude          | INT64       |\\n| 6874 | antarang-dashboard | dalgo_DBT_Antarang_Foundation | int_student_global_assessment_status | saf_atleast_one_quiz              | INT64       |\\n| 6875 | antarang-dashboard | dalgo_DBT_Antarang_Foundation | int_student_global_assessment_status | saf_atleast_one_feedback          | INT64       |\\n| 6876 | antarang-dashboard | dalgo_DBT_Antarang_Foundation | int_student_global_assessment_status | sar_atleast_one_quiz              | INT64       |\\n| 6877 | antarang-dashboard | dalgo_DBT_Antarang_Foundation | int_student_global_assessment_status | sar_atleast_one_reality           | INT64       |\\n\\nThe following columns are in the int_assessment_status table in the antarang-dashboard database:\\n\\n|      | table_catalog      | table_schema                  | table_name            | column_name                       | data_type   |\\n|-----:|:-------------------|:------------------------------|:----------------------|:----------------------------------|:------------|\\n| 7143 | antarang-dashboard | dalgo_DBT_Antarang_Foundation | int_assessment_status | student_barcode                   | STRING      |\\n| 7144 | antarang-dashboard | dalgo_DBT_Antarang_Foundation | int_assessment_status | student_grade                     | STRING      |\\n| 7145 | antarang-dashboard | dalgo_DBT_Antarang_Foundation | int_assessment_status | gender                            | STRING      |\\n| 7146 | antarang-dashboard | dalgo_DBT_Antarang_Foundation | int_assessment_status | batch_no                          | STRING      |\\n| 7147 | antarang-dashboard | dalgo_DBT_Antarang_Foundation | int_assessment_status | batch_academic_year               | NUMERIC     |\\n| 7148 | antarang-dashboard | dalgo_DBT_Antarang_Foundation | int_assessment_status | batch_grade                       | STRING      |\\n| 7149 | antarang-dashboard | dalgo_DBT_Antarang_Foundation | int_assessment_status | batch_language                    | STRING      |\\n| 7150 | antarang-dashboard | dalgo_DBT_Antarang_Foundation | int_assessment_status | facilitator_name                  | STRING      |\\n| 7151 | antarang-dashboard | dalgo_DBT_Antarang_Foundation | int_assessment_status | school_name                       | STRING      |\\n| 7152 | antarang-dashboard | dalgo_DBT_Antarang_Foundation | int_assessment_status | school_academic_year              | STRING      |\\n| 7153 | antarang-dashboard | dalgo_DBT_Antarang_Foundation | int_assessment_status | school_language                   | STRING      |\\n| 7154 | antarang-dashboard | dalgo_DBT_Antarang_Foundation | int_assessment_status | school_taluka                     | STRING      |\\n| 7155 | antarang-dashboard | dalgo_DBT_Antarang_Foundation | int_assessment_status | school_ward                       | STRING      |\\n| 7156 | antarang-dashboard | dalgo_DBT_Antarang_Foundation | int_assessment_status | school_district                   | STRING      |\\n| 7157 | antarang-dashboard | dalgo_DBT_Antarang_Foundation | int_assessment_status | school_state                      | STRING      |\\n| 7158 | antarang-dashboard | dalgo_DBT_Antarang_Foundation | int_assessment_status | school_partner                    | STRING      |\\n| 7159 | antarang-dashboard | dalgo_DBT_Antarang_Foundation | int_assessment_status | batch_donor                       | STRING      |\\n| 7160 | antarang-dashboard | dalgo_DBT_Antarang_Foundation | int_assessment_status | assessment_barcode                | STRING      |\\n| 7161 | antarang-dashboard | dalgo_DBT_Antarang_Foundation | int_assessment_status | assessment_grade                  | STRING      |\\n| 7162 | antarang-dashboard | dalgo_DBT_Antarang_Foundation | int_assessment_status | assessment_academic_year          | STRING      |\\n| 7163 | antarang-dashboard | dalgo_DBT_Antarang_Foundation | int_assessment_status | created_from_form                 | BOOL        |\\n| 7164 | antarang-dashboard | dalgo_DBT_Antarang_Foundation | int_assessment_status | submissions                       | STRING      |\\n| 7165 | antarang-dashboard | dalgo_DBT_Antarang_Foundation | int_assessment_status | atleast_one_submission            | INT64       |\\n| 7166 | antarang-dashboard | dalgo_DBT_Antarang_Foundation | int_assessment_status | atleast_one_assessment_submission | INT64       |\\n| 7167 | antarang-dashboard | dalgo_DBT_Antarang_Foundation | int_assessment_status | atleast_one_quiz_submission       | INT64       |\\n| 7168 | antarang-dashboard | dalgo_DBT_Antarang_Foundation | int_assessment_status | cdm1_status                       | STRING      |\\n| 7169 | antarang-dashboard | dalgo_DBT_Antarang_Foundation | int_assessment_status | cdm2_status                       | STRING      |\\n| 7170 | antarang-dashboard | dalgo_DBT_Antarang_Foundation | int_assessment_status | cp_status                         | STRING      |\\n| 7171 | antarang-dashboard | dalgo_DBT_Antarang_Foundation | int_assessment_status | cs_status                         | STRING      |\\n| 7172 | antarang-dashboard | dalgo_DBT_Antarang_Foundation | int_assessment_status | fp_status                         | STRING      |\\n| 7173 | antarang-dashboard | dalgo_DBT_Antarang_Foundation | int_assessment_status | quiz_status                       | STRING      |\\n| 7174 | antarang-dashboard | dalgo_DBT_Antarang_Foundation | int_assessment_status | bl_cdm1_no                        | STRING      |\\n| 7175 | antarang-dashboard | dalgo_DBT_Antarang_Foundation | int_assessment_status | el_cdm1_no                        | STRING      |\\n| 7176 | antarang-dashboard | dalgo_DBT_Antarang_Foundation | int_assessment_status | bl_cdm2_no                        | STRING      |\\n| 7177 | antarang-dashboard | dalgo_DBT_Antarang_Foundation | int_assessment_status | el_cdm2_no                        | STRING      |\\n| 7178 | antarang-dashboard | dalgo_DBT_Antarang_Foundation | int_assessment_status | bl_cp_no                          | STRING      |\\n| 7179 | antarang-dashboard | dalgo_DBT_Antarang_Foundation | int_assessment_status | el_cp_no                          | STRING      |\\n| 7180 | antarang-dashboard | dalgo_DBT_Antarang_Foundation | int_assessment_status | bl_cs_no                          | STRING      |\\n| 7181 | antarang-dashboard | dalgo_DBT_Antarang_Foundation | int_assessment_status | el_cs_no                          | STRING      |\\n| 7182 | antarang-dashboard | dalgo_DBT_Antarang_Foundation | int_assessment_status | bl_fp_no                          | STRING      |\\n| 7183 | antarang-dashboard | dalgo_DBT_Antarang_Foundation | int_assessment_status | el_fp_no                          | STRING      |\\n| 7184 | antarang-dashboard | dalgo_DBT_Antarang_Foundation | int_assessment_status | saf_no                            | STRING      |\\n| 7185 | antarang-dashboard | dalgo_DBT_Antarang_Foundation | int_assessment_status | sar_no                            | STRING      |\\n| 7186 | antarang-dashboard | dalgo_DBT_Antarang_Foundation | int_assessment_status | cdm1_bl_created_on                | TIMESTAMP   |\\n| 7187 | antarang-dashboard | dalgo_DBT_Antarang_Foundation | int_assessment_status | cdm1_el_created_on                | TIMESTAMP   |\\n| 7188 | antarang-dashboard | dalgo_DBT_Antarang_Foundation | int_assessment_status | cdm2_bl_created_on                | TIMESTAMP   |\\n| 7189 | antarang-dashboard | dalgo_DBT_Antarang_Foundation | int_assessment_status | cdm2_el_created_on                | TIMESTAMP   |\\n| 7190 | antarang-dashboard | dalgo_DBT_Antarang_Foundation | int_assessment_status | cp_bl_created_on                  | TIMESTAMP   |\\n| 7191 | antarang-dashboard | dalgo_DBT_Antarang_Foundation | int_assessment_status | cp_el_created_on                  | TIMESTAMP   |\\n| 7192 | antarang-dashboard | dalgo_DBT_Antarang_Foundation | int_assessment_status | cs_bl_created_on                  | TIMESTAMP   |\\n| 7193 | antarang-dashboard | dalgo_DBT_Antarang_Foundation | int_assessment_status | cs_el_created_on                  | TIMESTAMP   |\\n| 7194 | antarang-dashboard | dalgo_DBT_Antarang_Foundation | int_assessment_status | fp_bl_created_on                  | TIMESTAMP   |\\n| 7195 | antarang-dashboard | dalgo_DBT_Antarang_Foundation | int_assessment_status | fp_el_created_on                  | TIMESTAMP   |\\n| 7196 | antarang-dashboard | dalgo_DBT_Antarang_Foundation | int_assessment_status | saf_created_on                    | TIMESTAMP   |\\n| 7197 | antarang-dashboard | dalgo_DBT_Antarang_Foundation | int_assessment_status | sar_created_on                    | TIMESTAMP   |\\n| 7198 | antarang-dashboard | dalgo_DBT_Antarang_Foundation | int_assessment_status | cdm1_bl_is_non_null               | INT64       |\\n| 7199 | antarang-dashboard | dalgo_DBT_Antarang_Foundation | int_assessment_status | cdm1_el_is_non_null               | INT64       |\\n| 7200 | antarang-dashboard | dalgo_DBT_Antarang_Foundation | int_assessment_status | cdm2_bl_is_non_null               | INT64       |\\n| 7201 | antarang-dashboard | dalgo_DBT_Antarang_Foundation | int_assessment_status | cdm2_el_is_non_null               | INT64       |\\n| 7202 | antarang-dashboard | dalgo_DBT_Antarang_Foundation | int_assessment_status | cp_bl_is_non_null                 | INT64       |\\n| 7203 | antarang-dashboard | dalgo_DBT_Antarang_Foundation | int_assessment_status | cp_el_is_non_null                 | INT64       |\\n| 7204 | antarang-dashboard | dalgo_DBT_Antarang_Foundation | int_assessment_status | cs_bl_is_non_null                 | INT64       |\\n| 7205 | antarang-dashboard | dalgo_DBT_Antarang_Foundation | int_assessment_status | cs_el_is_non_null                 | INT64       |\\n| 7206 | antarang-dashboard | dalgo_DBT_Antarang_Foundation | int_assessment_status | fp_bl_is_non_null                 | INT64       |\\n| 7207 | antarang-dashboard | dalgo_DBT_Antarang_Foundation | int_assessment_status | fp_el_is_non_null                 | INT64       |\\n| 7208 | antarang-dashboard | dalgo_DBT_Antarang_Foundation | int_assessment_status | saf_is_non_null                   | INT64       |\\n| 7209 | antarang-dashboard | dalgo_DBT_Antarang_Foundation | int_assessment_status | sar_is_non_null                   | INT64       |\\n| 7210 | antarang-dashboard | dalgo_DBT_Antarang_Foundation | int_assessment_status | saf_atleast_one_interest          | INT64       |\\n| 7211 | antarang-dashboard | dalgo_DBT_Antarang_Foundation | int_assessment_status | saf_atleast_one_aptitude          | INT64       |\\n| 7212 | antarang-dashboard | dalgo_DBT_Antarang_Foundation | int_assessment_status | saf_atleast_one_quiz              | INT64       |\\n| 7213 | antarang-dashboard | dalgo_DBT_Antarang_Foundation | int_assessment_status | saf_atleast_one_feedback          | INT64       |\\n| 7214 | antarang-dashboard | dalgo_DBT_Antarang_Foundation | int_assessment_status | sar_atleast_one_quiz              | INT64       |\\n| 7215 | antarang-dashboard | dalgo_DBT_Antarang_Foundation | int_assessment_status | sar_atleast_one_reality           | INT64       |\\n\\n===Response Guidelines \\n1. If the provided context is sufficient, please generate a valid SQL query without any explanations for the question. \\n2. If the provided context is almost sufficient but requires knowledge of a specific string in a particular column, please generate an intermediate SQL query to find the distinct strings in that column. Prepend the query with a comment saying intermediate_sql \\n3. If the provided context is insufficient, please explain why it can't be generated. \\n4. Please use the most relevant table(s). \\n5. If the question has been asked and answered before, please repeat the answer exactly as it was given before. \\n6. Ensure that the output SQL is BigQuery SQL-compliant and executable, and free of syntax errors. \\n\"}, {'role': 'user', 'content': 'what are the different aspects on which children are mentored and graded?'}]\n",
      "Using model gpt-4o-mini for 10218.75 tokens (approx)\n",
      "LLM Response: ```sql\n",
      "-- intermediate_sql\n",
      "SELECT DISTINCT column_name\n",
      "FROM `antarang-dashboard.dalgo_DBT_Antarang_Foundation.stg_assessment_marks`\n",
      "WHERE column_name LIKE '%track%'\n",
      "UNION DISTINCT\n",
      "SELECT DISTINCT column_name\n",
      "FROM `antarang-dashboard.dalgo_DBT_Antarang_Foundation.fct_student_global_assessment_status`\n",
      "WHERE column_name LIKE '%status%'\n",
      "UNION DISTINCT\n",
      "SELECT DISTINCT column_name\n",
      "FROM `antarang-dashboard.dalgo_DBT_Antarang_Foundation.int_student_global_assessment_status`\n",
      "WHERE column_name LIKE '%status%'\n",
      "UNION DISTINCT\n",
      "SELECT DISTINCT column_name\n",
      "FROM `antarang-dashboard.dalgo_DBT_Antarang_Foundation.int_assessment_status`\n",
      "WHERE column_name LIKE '%status%';\n",
      "```\n",
      "Extracted SQL: SELECT DISTINCT column_name\n",
      "FROM `antarang-dashboard.dalgo_DBT_Antarang_Foundation.stg_assessment_marks`\n",
      "WHERE column_name LIKE '%track%'\n",
      "UNION DISTINCT\n",
      "SELECT DISTINCT column_name\n",
      "FROM `antarang-dashboard.dalgo_DBT_Antarang_Foundation.fct_student_global_assessment_status`\n",
      "WHERE column_name LIKE '%status%'\n",
      "UNION DISTINCT\n",
      "SELECT DISTINCT column_name\n",
      "FROM `antarang-dashboard.dalgo_DBT_Antarang_Foundation.int_student_global_assessment_status`\n",
      "WHERE column_name LIKE '%status%'\n",
      "UNION DISTINCT\n",
      "SELECT DISTINCT column_name\n",
      "FROM `antarang-dashboard.dalgo_DBT_Antarang_Foundation.int_assessment_status`\n",
      "WHERE column_name LIKE '%status%';\n",
      "Running Intermediate SQL: SELECT DISTINCT column_name\n",
      "FROM `antarang-dashboard.dalgo_DBT_Antarang_Foundation.stg_assessment_marks`\n",
      "WHERE column_name LIKE '%track%'\n",
      "UNION DISTINCT\n",
      "SELECT DISTINCT column_name\n",
      "FROM `antarang-dashboard.dalgo_DBT_Antarang_Foundation.fct_student_global_assessment_status`\n",
      "WHERE column_name LIKE '%status%'\n",
      "UNION DISTINCT\n",
      "SELECT DISTINCT column_name\n",
      "FROM `antarang-dashboard.dalgo_DBT_Antarang_Foundation.int_student_global_assessment_status`\n",
      "WHERE column_name LIKE '%status%'\n",
      "UNION DISTINCT\n",
      "SELECT DISTINCT column_name\n",
      "FROM `antarang-dashboard.dalgo_DBT_Antarang_Foundation.int_assessment_status`\n",
      "WHERE column_name LIKE '%status%';\n"
     ]
    }
   ],
   "source": [
    "response = vn.generate_sql(question=questions[1], allow_llm_to_see_data=True)"
   ]
  },
  {
   "cell_type": "code",
   "execution_count": 104,
   "id": "f39554b5-66bb-45cb-898e-e6ec0dab04ad",
   "metadata": {},
   "outputs": [
    {
     "name": "stdout",
     "output_type": "stream",
     "text": [
      "Error running intermediate SQL: 400 Unrecognized name: column_name at [3:7]\n",
      "\n",
      "Location: asia-south1\n",
      "Job ID: 6886cf00-9e27-45c3-a9f9-64fe44618124\n",
      "\n"
     ]
    }
   ],
   "source": [
    "print(response)"
   ]
  },
  {
   "cell_type": "code",
   "execution_count": null,
   "id": "eb7d550c-530e-493a-b229-4d84b6a3cffa",
   "metadata": {},
   "outputs": [],
   "source": []
  },
  {
   "cell_type": "code",
   "execution_count": null,
   "id": "e4187b2b-bdc6-4579-a44b-65b2d50b83a3",
   "metadata": {},
   "outputs": [],
   "source": []
  },
  {
   "cell_type": "code",
   "execution_count": null,
   "id": "36a3c6fa-8edb-4eda-80af-cdbe75462a19",
   "metadata": {},
   "outputs": [],
   "source": []
  },
  {
   "cell_type": "code",
   "execution_count": null,
   "id": "9248269a-fc52-4ee1-92d8-2eac561ce133",
   "metadata": {},
   "outputs": [],
   "source": []
  },
  {
   "cell_type": "code",
   "execution_count": null,
   "id": "c7a3c1ba-756d-4a0a-9702-d92548d495f6",
   "metadata": {},
   "outputs": [],
   "source": []
  }
 ],
 "metadata": {
  "kernelspec": {
   "display_name": "3.10",
   "language": "python",
   "name": "3.10"
  },
  "language_info": {
   "codemirror_mode": {
    "name": "ipython",
    "version": 3
   },
   "file_extension": ".py",
   "mimetype": "text/x-python",
   "name": "python",
   "nbconvert_exporter": "python",
   "pygments_lexer": "ipython3",
   "version": "3.10.9"
  }
 },
 "nbformat": 4,
 "nbformat_minor": 5
}
