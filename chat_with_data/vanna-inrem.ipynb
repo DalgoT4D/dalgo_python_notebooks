{
 "cells": [
  {
   "cell_type": "code",
   "execution_count": 64,
   "id": "3c4b7336-af89-4624-aded-b9cd34e61a96",
   "metadata": {},
   "outputs": [],
   "source": [
    "import os\n",
    "from dotenv import load_dotenv"
   ]
  },
  {
   "cell_type": "code",
   "execution_count": null,
   "id": "037b8643-c377-46a4-b00a-d6264e3d1056",
   "metadata": {},
   "outputs": [],
   "source": [
    "from vanna.openai import OpenAI_Chat\n",
    "from vanna.pgvector import PG_VectorStore"
   ]
  },
  {
   "cell_type": "code",
   "execution_count": 68,
   "id": "bf662be7-1809-4e7a-8bd3-b35e8dd4a417",
   "metadata": {},
   "outputs": [
    {
     "data": {
      "text/plain": [
       "True"
      ]
     },
     "execution_count": 68,
     "metadata": {},
     "output_type": "execute_result"
    }
   ],
   "source": [
    "load_dotenv(\"cwyd.inrem.env\", override=True)"
   ]
  },
  {
   "cell_type": "code",
   "execution_count": 69,
   "id": "a47713f5-35d8-4f6b-841e-6245994a9cc0",
   "metadata": {},
   "outputs": [],
   "source": [
    "MY_VANNA_API_KEY = os.environ[\"MY_VANNA_API_KEY\"]\n",
    "MY_VANNA_MODEL = os.environ[\"MY_VANNA_MODEL\"]\n",
    "OPENAI_API_KEY = os.environ[\"OPENAI_API_KEY\"]\n",
    "PATH_TO_BQ_SERVICE_ACCOUNT_JSON = os.environ[\"PATH_TO_BQ_SERVICE_ACCOUNT_JSON\"]\n",
    "BQ_PROJECT_ID = os.environ[\"BQ_PROJECT_ID\"]\n",
    "BQ_DATASET = os.environ[\"BQ_DATASET\"]\n",
    "\n",
    "PGVECTOR_USER = os.environ[\"PGVECTOR_USER\"]\n",
    "PGVECTOR_PASSWORD = os.environ[\"PGVECTOR_PASSWORD\"]\n",
    "PGVECTOR_HOST = os.environ[\"PGVECTOR_HOST\"]\n",
    "PGVECTOR_PORT = os.environ[\"PGVECTOR_PORT\"]\n",
    "PGVECTOR_DB = os.environ[\"PGVECTOR_DB\"]"
   ]
  },
  {
   "cell_type": "code",
   "execution_count": 71,
   "id": "2e39d14f-08c7-4496-aa05-ab61bf61010c",
   "metadata": {},
   "outputs": [],
   "source": [
    "class DalgoVannaClient(PG_VectorStore, OpenAI_Chat):\n",
    "    def __init__(self, openai_config={}, pg_vector_config={}):\n",
    "        PG_VectorStore.__init__(\n",
    "            self,\n",
    "            config={\n",
    "                \"connection_string\": \"postgresql+psycopg://{username}:{password}@{server}:{port}/{database}\".format(\n",
    "                    **{\n",
    "                        \"username\": PGVECTOR_USER,\n",
    "                        \"password\": PGVECTOR_PASSWORD,\n",
    "                        \"server\": PGVECTOR_HOST,\n",
    "                        \"port\": PGVECTOR_PORT,\n",
    "                        \"database\": PGVECTOR_DB,\n",
    "                    }\n",
    "                ),\n",
    "                **pg_vector_config,\n",
    "            },\n",
    "        )\n",
    "        OpenAI_Chat.__init__(\n",
    "            self,\n",
    "            config={\n",
    "                \"api_key\": OPENAI_API_KEY,\n",
    "                \"model\": \"gpt-4o-mini\",\n",
    "                **openai_config,\n",
    "            },\n",
    "        )\n",
    "\n",
    "vn = DalgoVannaClient()"
   ]
  },
  {
   "cell_type": "code",
   "execution_count": 72,
   "id": "2c3e152a-b13e-4cde-a86d-c1d0a0ba81c2",
   "metadata": {},
   "outputs": [
    {
     "name": "stdout",
     "output_type": "stream",
     "text": [
      "Not using Google Colab.\n"
     ]
    }
   ],
   "source": [
    "vn.connect_to_bigquery(\n",
    "    project_id=BQ_PROJECT_ID,\n",
    "    cred_file_path=PATH_TO_BQ_SERVICE_ACCOUNT_JSON,\n",
    ")"
   ]
  },
  {
   "cell_type": "code",
   "execution_count": 73,
   "id": "cd1271cc-687e-4d6a-9ecb-0ed77518a941",
   "metadata": {},
   "outputs": [],
   "source": [
    "exclude_schemas = [\"airbyte_internal\", \"dbt_staging_elementary\", \"pg_catalog\"]"
   ]
  },
  {
   "cell_type": "code",
   "execution_count": 74,
   "id": "c3651e16-829a-4b61-a14f-3403dc0d2885",
   "metadata": {},
   "outputs": [
    {
     "name": "stdout",
     "output_type": "stream",
     "text": [
      "\n",
      "SELECT * FROM `intermediate_frappe`.`INFORMATION_SCHEMA`.`COLUMNS` \n",
      "WHERE column_name NOT LIKE '_airbyte%'\n",
      "AND table_schema not in (\n",
      "    `airbyte_internal`,`dbt_staging_elementary`,`pg_catalog`\n",
      ")\n",
      "\n"
     ]
    }
   ],
   "source": [
    "print(f\"\"\"\n",
    "SELECT * FROM `{BQ_DATASET}`.`INFORMATION_SCHEMA`.`COLUMNS` \n",
    "WHERE column_name NOT LIKE '_airbyte%'\n",
    "AND table_schema not in (\n",
    "    {','.join([\"`\" + schema + \"`\" for schema in exclude_schemas])}\n",
    ")\n",
    "\"\"\")"
   ]
  },
  {
   "cell_type": "code",
   "execution_count": 75,
   "id": "453cb31a-164a-4848-8cab-4c438c6f9c27",
   "metadata": {},
   "outputs": [],
   "source": [
    "df_information_schema = vn.run_sql(f\"\"\"\n",
    "SELECT * FROM `{BQ_DATASET}`.`INFORMATION_SCHEMA`.`COLUMNS` \n",
    "WHERE column_name NOT LIKE '_airbyte%'\n",
    "AND table_schema not in (\n",
    "    {','.join([\"'\" + schema + \"'\" for schema in exclude_schemas])}\n",
    ")\n",
    "\"\"\")"
   ]
  },
  {
   "cell_type": "code",
   "execution_count": 76,
   "id": "72421bb1-dae1-492f-9c0a-16196d281c2d",
   "metadata": {},
   "outputs": [
    {
     "data": {
      "text/html": [
       "<div>\n",
       "<style scoped>\n",
       "    .dataframe tbody tr th:only-of-type {\n",
       "        vertical-align: middle;\n",
       "    }\n",
       "\n",
       "    .dataframe tbody tr th {\n",
       "        vertical-align: top;\n",
       "    }\n",
       "\n",
       "    .dataframe thead th {\n",
       "        text-align: right;\n",
       "    }\n",
       "</style>\n",
       "<table border=\"1\" class=\"dataframe\">\n",
       "  <thead>\n",
       "    <tr style=\"text-align: right;\">\n",
       "      <th></th>\n",
       "      <th>table_catalog</th>\n",
       "      <th>table_schema</th>\n",
       "      <th>table_name</th>\n",
       "      <th>column_name</th>\n",
       "      <th>ordinal_position</th>\n",
       "      <th>is_nullable</th>\n",
       "      <th>data_type</th>\n",
       "      <th>is_generated</th>\n",
       "      <th>generation_expression</th>\n",
       "      <th>is_stored</th>\n",
       "      <th>is_hidden</th>\n",
       "      <th>is_updatable</th>\n",
       "      <th>is_system_defined</th>\n",
       "      <th>is_partitioning_column</th>\n",
       "      <th>clustering_ordinal_position</th>\n",
       "      <th>collation_name</th>\n",
       "      <th>column_default</th>\n",
       "      <th>rounding_mode</th>\n",
       "    </tr>\n",
       "  </thead>\n",
       "  <tbody>\n",
       "    <tr>\n",
       "      <th>0</th>\n",
       "      <td>dalgo-412710</td>\n",
       "      <td>intermediate_frappe</td>\n",
       "      <td>envquality_prod</td>\n",
       "      <td>villageentity_id</td>\n",
       "      <td>1</td>\n",
       "      <td>YES</td>\n",
       "      <td>STRING</td>\n",
       "      <td>NEVER</td>\n",
       "      <td>None</td>\n",
       "      <td>None</td>\n",
       "      <td>NO</td>\n",
       "      <td>None</td>\n",
       "      <td>NO</td>\n",
       "      <td>NO</td>\n",
       "      <td>&lt;NA&gt;</td>\n",
       "      <td>NULL</td>\n",
       "      <td>NULL</td>\n",
       "      <td>None</td>\n",
       "    </tr>\n",
       "    <tr>\n",
       "      <th>1</th>\n",
       "      <td>dalgo-412710</td>\n",
       "      <td>intermediate_frappe</td>\n",
       "      <td>envquality_prod</td>\n",
       "      <td>reporting_date</td>\n",
       "      <td>2</td>\n",
       "      <td>YES</td>\n",
       "      <td>STRING</td>\n",
       "      <td>NEVER</td>\n",
       "      <td>None</td>\n",
       "      <td>None</td>\n",
       "      <td>NO</td>\n",
       "      <td>None</td>\n",
       "      <td>NO</td>\n",
       "      <td>NO</td>\n",
       "      <td>&lt;NA&gt;</td>\n",
       "      <td>NULL</td>\n",
       "      <td>NULL</td>\n",
       "      <td>None</td>\n",
       "    </tr>\n",
       "    <tr>\n",
       "      <th>2</th>\n",
       "      <td>dalgo-412710</td>\n",
       "      <td>intermediate_frappe</td>\n",
       "      <td>envquality_prod</td>\n",
       "      <td>reporting_year</td>\n",
       "      <td>3</td>\n",
       "      <td>YES</td>\n",
       "      <td>INT64</td>\n",
       "      <td>NEVER</td>\n",
       "      <td>None</td>\n",
       "      <td>None</td>\n",
       "      <td>NO</td>\n",
       "      <td>None</td>\n",
       "      <td>NO</td>\n",
       "      <td>NO</td>\n",
       "      <td>&lt;NA&gt;</td>\n",
       "      <td>NULL</td>\n",
       "      <td>NULL</td>\n",
       "      <td>None</td>\n",
       "    </tr>\n",
       "    <tr>\n",
       "      <th>3</th>\n",
       "      <td>dalgo-412710</td>\n",
       "      <td>intermediate_frappe</td>\n",
       "      <td>envquality_prod</td>\n",
       "      <td>reporting_month</td>\n",
       "      <td>4</td>\n",
       "      <td>YES</td>\n",
       "      <td>INT64</td>\n",
       "      <td>NEVER</td>\n",
       "      <td>None</td>\n",
       "      <td>None</td>\n",
       "      <td>NO</td>\n",
       "      <td>None</td>\n",
       "      <td>NO</td>\n",
       "      <td>NO</td>\n",
       "      <td>&lt;NA&gt;</td>\n",
       "      <td>NULL</td>\n",
       "      <td>NULL</td>\n",
       "      <td>None</td>\n",
       "    </tr>\n",
       "    <tr>\n",
       "      <th>4</th>\n",
       "      <td>dalgo-412710</td>\n",
       "      <td>intermediate_frappe</td>\n",
       "      <td>envquality_prod</td>\n",
       "      <td>reporting_year_month</td>\n",
       "      <td>5</td>\n",
       "      <td>YES</td>\n",
       "      <td>STRING</td>\n",
       "      <td>NEVER</td>\n",
       "      <td>None</td>\n",
       "      <td>None</td>\n",
       "      <td>NO</td>\n",
       "      <td>None</td>\n",
       "      <td>NO</td>\n",
       "      <td>NO</td>\n",
       "      <td>&lt;NA&gt;</td>\n",
       "      <td>NULL</td>\n",
       "      <td>NULL</td>\n",
       "      <td>None</td>\n",
       "    </tr>\n",
       "    <tr>\n",
       "      <th>...</th>\n",
       "      <td>...</td>\n",
       "      <td>...</td>\n",
       "      <td>...</td>\n",
       "      <td>...</td>\n",
       "      <td>...</td>\n",
       "      <td>...</td>\n",
       "      <td>...</td>\n",
       "      <td>...</td>\n",
       "      <td>...</td>\n",
       "      <td>...</td>\n",
       "      <td>...</td>\n",
       "      <td>...</td>\n",
       "      <td>...</td>\n",
       "      <td>...</td>\n",
       "      <td>...</td>\n",
       "      <td>...</td>\n",
       "      <td>...</td>\n",
       "      <td>...</td>\n",
       "    </tr>\n",
       "    <tr>\n",
       "      <th>161</th>\n",
       "      <td>dalgo-412710</td>\n",
       "      <td>intermediate_frappe</td>\n",
       "      <td>behaviour_prod</td>\n",
       "      <td>villagename</td>\n",
       "      <td>10</td>\n",
       "      <td>YES</td>\n",
       "      <td>STRING</td>\n",
       "      <td>NEVER</td>\n",
       "      <td>None</td>\n",
       "      <td>None</td>\n",
       "      <td>NO</td>\n",
       "      <td>None</td>\n",
       "      <td>NO</td>\n",
       "      <td>NO</td>\n",
       "      <td>&lt;NA&gt;</td>\n",
       "      <td>NULL</td>\n",
       "      <td>NULL</td>\n",
       "      <td>None</td>\n",
       "    </tr>\n",
       "    <tr>\n",
       "      <th>162</th>\n",
       "      <td>dalgo-412710</td>\n",
       "      <td>intermediate_frappe</td>\n",
       "      <td>behaviour_prod</td>\n",
       "      <td>statename</td>\n",
       "      <td>11</td>\n",
       "      <td>YES</td>\n",
       "      <td>STRING</td>\n",
       "      <td>NEVER</td>\n",
       "      <td>None</td>\n",
       "      <td>None</td>\n",
       "      <td>NO</td>\n",
       "      <td>None</td>\n",
       "      <td>NO</td>\n",
       "      <td>NO</td>\n",
       "      <td>&lt;NA&gt;</td>\n",
       "      <td>NULL</td>\n",
       "      <td>NULL</td>\n",
       "      <td>None</td>\n",
       "    </tr>\n",
       "    <tr>\n",
       "      <th>163</th>\n",
       "      <td>dalgo-412710</td>\n",
       "      <td>intermediate_frappe</td>\n",
       "      <td>behaviour_prod</td>\n",
       "      <td>districtname</td>\n",
       "      <td>12</td>\n",
       "      <td>YES</td>\n",
       "      <td>STRING</td>\n",
       "      <td>NEVER</td>\n",
       "      <td>None</td>\n",
       "      <td>None</td>\n",
       "      <td>NO</td>\n",
       "      <td>None</td>\n",
       "      <td>NO</td>\n",
       "      <td>NO</td>\n",
       "      <td>&lt;NA&gt;</td>\n",
       "      <td>NULL</td>\n",
       "      <td>NULL</td>\n",
       "      <td>None</td>\n",
       "    </tr>\n",
       "    <tr>\n",
       "      <th>164</th>\n",
       "      <td>dalgo-412710</td>\n",
       "      <td>intermediate_frappe</td>\n",
       "      <td>behaviour_prod</td>\n",
       "      <td>blockname</td>\n",
       "      <td>13</td>\n",
       "      <td>YES</td>\n",
       "      <td>STRING</td>\n",
       "      <td>NEVER</td>\n",
       "      <td>None</td>\n",
       "      <td>None</td>\n",
       "      <td>NO</td>\n",
       "      <td>None</td>\n",
       "      <td>NO</td>\n",
       "      <td>NO</td>\n",
       "      <td>&lt;NA&gt;</td>\n",
       "      <td>NULL</td>\n",
       "      <td>NULL</td>\n",
       "      <td>None</td>\n",
       "    </tr>\n",
       "    <tr>\n",
       "      <th>165</th>\n",
       "      <td>dalgo-412710</td>\n",
       "      <td>intermediate_frappe</td>\n",
       "      <td>behaviour_prod</td>\n",
       "      <td>grampanchname</td>\n",
       "      <td>14</td>\n",
       "      <td>YES</td>\n",
       "      <td>STRING</td>\n",
       "      <td>NEVER</td>\n",
       "      <td>None</td>\n",
       "      <td>None</td>\n",
       "      <td>NO</td>\n",
       "      <td>None</td>\n",
       "      <td>NO</td>\n",
       "      <td>NO</td>\n",
       "      <td>&lt;NA&gt;</td>\n",
       "      <td>NULL</td>\n",
       "      <td>NULL</td>\n",
       "      <td>None</td>\n",
       "    </tr>\n",
       "  </tbody>\n",
       "</table>\n",
       "<p>166 rows × 18 columns</p>\n",
       "</div>"
      ],
      "text/plain": [
       "    table_catalog         table_schema       table_name           column_name  \\\n",
       "0    dalgo-412710  intermediate_frappe  envquality_prod      villageentity_id   \n",
       "1    dalgo-412710  intermediate_frappe  envquality_prod        reporting_date   \n",
       "2    dalgo-412710  intermediate_frappe  envquality_prod        reporting_year   \n",
       "3    dalgo-412710  intermediate_frappe  envquality_prod       reporting_month   \n",
       "4    dalgo-412710  intermediate_frappe  envquality_prod  reporting_year_month   \n",
       "..            ...                  ...              ...                   ...   \n",
       "161  dalgo-412710  intermediate_frappe   behaviour_prod           villagename   \n",
       "162  dalgo-412710  intermediate_frappe   behaviour_prod             statename   \n",
       "163  dalgo-412710  intermediate_frappe   behaviour_prod          districtname   \n",
       "164  dalgo-412710  intermediate_frappe   behaviour_prod             blockname   \n",
       "165  dalgo-412710  intermediate_frappe   behaviour_prod         grampanchname   \n",
       "\n",
       "     ordinal_position is_nullable data_type is_generated  \\\n",
       "0                   1         YES    STRING        NEVER   \n",
       "1                   2         YES    STRING        NEVER   \n",
       "2                   3         YES     INT64        NEVER   \n",
       "3                   4         YES     INT64        NEVER   \n",
       "4                   5         YES    STRING        NEVER   \n",
       "..                ...         ...       ...          ...   \n",
       "161                10         YES    STRING        NEVER   \n",
       "162                11         YES    STRING        NEVER   \n",
       "163                12         YES    STRING        NEVER   \n",
       "164                13         YES    STRING        NEVER   \n",
       "165                14         YES    STRING        NEVER   \n",
       "\n",
       "    generation_expression is_stored is_hidden is_updatable is_system_defined  \\\n",
       "0                    None      None        NO         None                NO   \n",
       "1                    None      None        NO         None                NO   \n",
       "2                    None      None        NO         None                NO   \n",
       "3                    None      None        NO         None                NO   \n",
       "4                    None      None        NO         None                NO   \n",
       "..                    ...       ...       ...          ...               ...   \n",
       "161                  None      None        NO         None                NO   \n",
       "162                  None      None        NO         None                NO   \n",
       "163                  None      None        NO         None                NO   \n",
       "164                  None      None        NO         None                NO   \n",
       "165                  None      None        NO         None                NO   \n",
       "\n",
       "    is_partitioning_column  clustering_ordinal_position collation_name  \\\n",
       "0                       NO                         <NA>           NULL   \n",
       "1                       NO                         <NA>           NULL   \n",
       "2                       NO                         <NA>           NULL   \n",
       "3                       NO                         <NA>           NULL   \n",
       "4                       NO                         <NA>           NULL   \n",
       "..                     ...                          ...            ...   \n",
       "161                     NO                         <NA>           NULL   \n",
       "162                     NO                         <NA>           NULL   \n",
       "163                     NO                         <NA>           NULL   \n",
       "164                     NO                         <NA>           NULL   \n",
       "165                     NO                         <NA>           NULL   \n",
       "\n",
       "    column_default rounding_mode  \n",
       "0             NULL          None  \n",
       "1             NULL          None  \n",
       "2             NULL          None  \n",
       "3             NULL          None  \n",
       "4             NULL          None  \n",
       "..             ...           ...  \n",
       "161           NULL          None  \n",
       "162           NULL          None  \n",
       "163           NULL          None  \n",
       "164           NULL          None  \n",
       "165           NULL          None  \n",
       "\n",
       "[166 rows x 18 columns]"
      ]
     },
     "execution_count": 76,
     "metadata": {},
     "output_type": "execute_result"
    }
   ],
   "source": [
    "df_information_schema"
   ]
  },
  {
   "cell_type": "code",
   "execution_count": 77,
   "id": "3d32a0b9-12c3-47d2-85c6-2af37045ec9b",
   "metadata": {},
   "outputs": [],
   "source": [
    "plan = vn.get_training_plan_generic(df_information_schema)\n",
    "vn.train(plan=plan)"
   ]
  },
  {
   "cell_type": "code",
   "execution_count": 78,
   "id": "41eef01d-cdd5-4d2a-8e2f-4c617410f435",
   "metadata": {},
   "outputs": [
    {
     "data": {
      "text/plain": [
       "'bffad8e8-f2ea-44c1-b5a8-195ad6b5ff1d-doc'"
      ]
     },
     "execution_count": 78,
     "metadata": {},
     "output_type": "execute_result"
    }
   ],
   "source": [
    "vn.train(documentation=\"\"\"\n",
    "inrem runs water quality programs in villages around india\n",
    "\"\"\")\n",
    "vn.train(documentation=\"\"\"\n",
    "examples \"village entities\" are schools, water pumps, agricultural land, and households\n",
    "\"\"\")\n"
   ]
  },
  {
   "cell_type": "code",
   "execution_count": null,
   "id": "6b48d789-0101-487a-ad57-61c7bf537c6f",
   "metadata": {},
   "outputs": [],
   "source": []
  },
  {
   "cell_type": "code",
   "execution_count": 79,
   "id": "aea88a3c-08fd-4e02-a57d-043c98c80a21",
   "metadata": {},
   "outputs": [],
   "source": [
    "questions = [\n",
    "    \"what types of contaminants are measured in water quality programs?\",\n",
    "    \"which villages have the highest levels of iron?\",\n",
    "    \"which village entities have the highest levels of iron?\",\n",
    "]"
   ]
  },
  {
   "cell_type": "code",
   "execution_count": 80,
   "id": "e268ac26-7e62-4850-aba0-07342bad884c",
   "metadata": {},
   "outputs": [
    {
     "name": "stdout",
     "output_type": "stream",
     "text": [
      "SQL Prompt: [{'role': 'system', 'content': 'You are a BigQuery SQL expert. Please help to generate a SQL query to answer the question. Your response should ONLY be based on the given context and follow the response guidelines and format instructions. \\n===Additional Context \\n\\n\\ninrem runs water quality programs in villages around india\\n\\n\\n\\nexamples \"village entities\" are schools, water pumps, agricultural land, and households\\n\\n\\nThe following columns are in the envqualityreporttable table in the dalgo-412710 database:\\n\\n|    | table_catalog   | table_schema        | table_name            | column_name                 | data_type   |\\n|---:|:----------------|:--------------------|:----------------------|:----------------------------|:------------|\\n| 74 | dalgo-412710    | intermediate_frappe | envqualityreporttable | envqualityreporttable_id    | STRING      |\\n| 75 | dalgo-412710    | intermediate_frappe | envqualityreporttable | envqualityreport_id         | STRING      |\\n| 76 | dalgo-412710    | intermediate_frappe | envqualityreporttable | environmental_parameter     | STRING      |\\n| 77 | dalgo-412710    | intermediate_frappe | envqualityreporttable | environmental_concentration | NUMERIC     |\\n| 78 | dalgo-412710    | intermediate_frappe | envqualityreporttable | environmental_unit          | STRING      |\\n| 79 | dalgo-412710    | intermediate_frappe | envqualityreporttable | environmental_safety        | STRING      |\\n| 80 | dalgo-412710    | intermediate_frappe | envqualityreporttable | is_tested                   | NUMERIC     |\\n| 81 | dalgo-412710    | intermediate_frappe | envqualityreporttable | approval_status             | STRING      |\\n\\nThe following columns are in the envquality_safety_by_report table in the dalgo-412710 database:\\n\\n|    | table_catalog   | table_schema        | table_name                  | column_name                  | data_type   |\\n|---:|:----------------|:--------------------|:----------------------------|:-----------------------------|:------------|\\n| 41 | dalgo-412710    | intermediate_frappe | envquality_safety_by_report | villageentity_id             | STRING      |\\n| 42 | dalgo-412710    | intermediate_frappe | envquality_safety_by_report | reporting_date               | STRING      |\\n| 43 | dalgo-412710    | intermediate_frappe | envquality_safety_by_report | reporting_year               | INT64       |\\n| 44 | dalgo-412710    | intermediate_frappe | envquality_safety_by_report | reporting_month              | INT64       |\\n| 45 | dalgo-412710    | intermediate_frappe | envquality_safety_by_report | reporting_year_month         | STRING      |\\n| 46 | dalgo-412710    | intermediate_frappe | envquality_safety_by_report | overall_environmental_safety | STRING      |\\n| 47 | dalgo-412710    | intermediate_frappe | envquality_safety_by_report | villagename                  | STRING      |\\n| 48 | dalgo-412710    | intermediate_frappe | envquality_safety_by_report | statename                    | STRING      |\\n| 49 | dalgo-412710    | intermediate_frappe | envquality_safety_by_report | districtname                 | STRING      |\\n| 50 | dalgo-412710    | intermediate_frappe | envquality_safety_by_report | blockname                    | STRING      |\\n| 51 | dalgo-412710    | intermediate_frappe | envquality_safety_by_report | grampanchname                | STRING      |\\n\\nThe following columns are in the listofenvqualityreports table in the dalgo-412710 database:\\n\\n|    | table_catalog   | table_schema        | table_name              | column_name                         | data_type   |\\n|---:|:----------------|:--------------------|:------------------------|:------------------------------------|:------------|\\n| 55 | dalgo-412710    | intermediate_frappe | listofenvqualityreports | listofenvqualityreports_id          | STRING      |\\n| 56 | dalgo-412710    | intermediate_frappe | listofenvqualityreports | villagetracker_id                   | STRING      |\\n| 57 | dalgo-412710    | intermediate_frappe | listofenvqualityreports | villageentity_id                    | STRING      |\\n| 58 | dalgo-412710    | intermediate_frappe | listofenvqualityreports | purpose_of_test                     | STRING      |\\n| 59 | dalgo-412710    | intermediate_frappe | listofenvqualityreports | envqualityreport_id                 | STRING      |\\n| 60 | dalgo-412710    | intermediate_frappe | listofenvqualityreports | description_of_environmental_source | STRING      |\\n\\nThe following columns are in the villagetracker table in the dalgo-412710 database:\\n\\n|    | table_catalog   | table_schema        | table_name     | column_name       | data_type   |\\n|---:|:----------------|:--------------------|:---------------|:------------------|:------------|\\n| 37 | dalgo-412710    | intermediate_frappe | villagetracker | villagetracker_id | STRING      |\\n| 38 | dalgo-412710    | intermediate_frappe | villagetracker | villageentity_id  | STRING      |\\n| 39 | dalgo-412710    | intermediate_frappe | villagetracker | datesurvey        | STRING      |\\n| 40 | dalgo-412710    | intermediate_frappe | villagetracker | idx               | NUMERIC     |\\n\\nThe following columns are in the behaviour table in the dalgo-412710 database:\\n\\n|     | table_catalog   | table_schema        | table_name   | column_name       | data_type   |\\n|----:|:----------------|:--------------------|:-------------|:------------------|:------------|\\n| 135 | dalgo-412710    | intermediate_frappe | behaviour    | behaviour_id      | STRING      |\\n| 136 | dalgo-412710    | intermediate_frappe | behaviour    | villagetracker_id | STRING      |\\n| 137 | dalgo-412710    | intermediate_frappe | behaviour    | behaviour_type    | STRING      |\\n| 138 | dalgo-412710    | intermediate_frappe | behaviour    | reporting_date    | STRING      |\\n| 139 | dalgo-412710    | intermediate_frappe | behaviour    | behaviour_follow  | STRING      |\\n| 140 | dalgo-412710    | intermediate_frappe | behaviour    | notes             | STRING      |\\n\\nThe following columns are in the envqualityreport table in the dalgo-412710 database:\\n\\n|    | table_catalog   | table_schema        | table_name       | column_name         | data_type   |\\n|---:|:----------------|:--------------------|:-----------------|:--------------------|:------------|\\n| 23 | dalgo-412710    | intermediate_frappe | envqualityreport | envqualityreport_id | STRING      |\\n| 24 | dalgo-412710    | intermediate_frappe | envqualityreport | purpose_of_test     | STRING      |\\n| 25 | dalgo-412710    | intermediate_frappe | envqualityreport | approve_by          | STRING      |\\n| 26 | dalgo-412710    | intermediate_frappe | envqualityreport | sample_ref          | STRING      |\\n| 27 | dalgo-412710    | intermediate_frappe | envqualityreport | test_narrative      | STRING      |\\n| 28 | dalgo-412710    | intermediate_frappe | envqualityreport | reporting_date      | STRING      |\\n| 29 | dalgo-412710    | intermediate_frappe | envqualityreport | test_method         | STRING      |\\n| 30 | dalgo-412710    | intermediate_frappe | envqualityreport | test_vendor         | STRING      |\\n| 31 | dalgo-412710    | intermediate_frappe | envqualityreport | test_options        | STRING      |\\n| 32 | dalgo-412710    | intermediate_frappe | envqualityreport | workflow_state      | STRING      |\\n\\nThe following columns are in the behaviour_prod table in the dalgo-412710 database:\\n\\n|     | table_catalog   | table_schema        | table_name     | column_name          | data_type   |\\n|----:|:----------------|:--------------------|:---------------|:---------------------|:------------|\\n| 152 | dalgo-412710    | intermediate_frappe | behaviour_prod | behaviour_id         | STRING      |\\n| 153 | dalgo-412710    | intermediate_frappe | behaviour_prod | behaviour_type       | STRING      |\\n| 154 | dalgo-412710    | intermediate_frappe | behaviour_prod | villageentity_id     | STRING      |\\n| 155 | dalgo-412710    | intermediate_frappe | behaviour_prod | reporting_date       | STRING      |\\n| 156 | dalgo-412710    | intermediate_frappe | behaviour_prod | reporting_year       | INT64       |\\n| 157 | dalgo-412710    | intermediate_frappe | behaviour_prod | reporting_month      | INT64       |\\n| 158 | dalgo-412710    | intermediate_frappe | behaviour_prod | reporting_year_month | STRING      |\\n| 159 | dalgo-412710    | intermediate_frappe | behaviour_prod | behaviour_follow     | STRING      |\\n| 160 | dalgo-412710    | intermediate_frappe | behaviour_prod | notes                | STRING      |\\n| 161 | dalgo-412710    | intermediate_frappe | behaviour_prod | villagename          | STRING      |\\n| 162 | dalgo-412710    | intermediate_frappe | behaviour_prod | statename            | STRING      |\\n| 163 | dalgo-412710    | intermediate_frappe | behaviour_prod | districtname         | STRING      |\\n| 164 | dalgo-412710    | intermediate_frappe | behaviour_prod | blockname            | STRING      |\\n| 165 | dalgo-412710    | intermediate_frappe | behaviour_prod | grampanchname        | STRING      |\\n\\nThe following columns are in the envquality_by_villageentity table in the dalgo-412710 database:\\n\\n|     | table_catalog   | table_schema        | table_name                  | column_name                         | data_type   |\\n|----:|:----------------|:--------------------|:----------------------------|:------------------------------------|:------------|\\n| 108 | dalgo-412710    | intermediate_frappe | envquality_by_villageentity | villageentity_id                    | STRING      |\\n| 109 | dalgo-412710    | intermediate_frappe | envquality_by_villageentity | villagetracker_id                   | STRING      |\\n| 110 | dalgo-412710    | intermediate_frappe | envquality_by_villageentity | purpose_of_test                     | STRING      |\\n| 111 | dalgo-412710    | intermediate_frappe | envquality_by_villageentity | description_of_environmental_source | STRING      |\\n| 112 | dalgo-412710    | intermediate_frappe | envquality_by_villageentity | sample_ref                          | STRING      |\\n| 113 | dalgo-412710    | intermediate_frappe | envquality_by_villageentity | test_narrative                      | STRING      |\\n| 114 | dalgo-412710    | intermediate_frappe | envquality_by_villageentity | reporting_date                      | STRING      |\\n| 115 | dalgo-412710    | intermediate_frappe | envquality_by_villageentity | test_method                         | STRING      |\\n| 116 | dalgo-412710    | intermediate_frappe | envquality_by_villageentity | test_vendor                         | STRING      |\\n| 117 | dalgo-412710    | intermediate_frappe | envquality_by_villageentity | test_options                        | STRING      |\\n| 118 | dalgo-412710    | intermediate_frappe | envquality_by_villageentity | environmental_parameter             | STRING      |\\n| 119 | dalgo-412710    | intermediate_frappe | envquality_by_villageentity | environmental_concentration         | NUMERIC     |\\n| 120 | dalgo-412710    | intermediate_frappe | envquality_by_villageentity | environmental_unit                  | STRING      |\\n| 121 | dalgo-412710    | intermediate_frappe | envquality_by_villageentity | environmental_safety                | STRING      |\\n| 122 | dalgo-412710    | intermediate_frappe | envquality_by_villageentity | is_tested                           | NUMERIC     |\\n| 123 | dalgo-412710    | intermediate_frappe | envquality_by_villageentity | approval_status                     | STRING      |\\n\\n===Response Guidelines \\n1. If the provided context is sufficient, please generate a valid SQL query without any explanations for the question. \\n2. If the provided context is almost sufficient but requires knowledge of a specific string in a particular column, please generate an intermediate SQL query to find the distinct strings in that column. Prepend the query with a comment saying intermediate_sql \\n3. If the provided context is insufficient, please explain why it can\\'t be generated. \\n4. Please use the most relevant table(s). \\n5. If the question has been asked and answered before, please repeat the answer exactly as it was given before. \\n6. Ensure that the output SQL is BigQuery SQL-compliant and executable, and free of syntax errors. \\n'}, {'role': 'user', 'content': 'what types of contaminants are measured in water quality programs?'}]\n",
      "Using model gpt-4o-mini for 3055.5 tokens (approx)\n",
      "LLM Response: intermediate_sql \n",
      "```sql\n",
      "SELECT DISTINCT environmental_parameter \n",
      "FROM dalgo-412710.intermediate_frappe.envqualityreporttable;\n",
      "```\n"
     ]
    }
   ],
   "source": [
    "response = vn.generate_sql(question=questions[0], allow_llm_to_see_data=False)"
   ]
  },
  {
   "cell_type": "code",
   "execution_count": 56,
   "id": "ddad991d-7b03-4741-93e4-ce09ba43a3b3",
   "metadata": {},
   "outputs": [
    {
     "name": "stdout",
     "output_type": "stream",
     "text": [
      "SELECT DISTINCT environmental_parameter \n",
      "FROM `dalgo-412710.intermediate_frappe.envqualityreporttable`;\n"
     ]
    }
   ],
   "source": [
    "print(response)"
   ]
  },
  {
   "cell_type": "code",
   "execution_count": 58,
   "id": "eb7d550c-530e-493a-b229-4d84b6a3cffa",
   "metadata": {},
   "outputs": [
    {
     "name": "stdout",
     "output_type": "stream",
     "text": [
      "SQL Prompt: [{'role': 'system', 'content': 'You are a BigQuery SQL expert. Please help to generate a SQL query to answer the question. Your response should ONLY be based on the given context and follow the response guidelines and format instructions. \\n===Additional Context \\n\\n\\ninrem runs water quality programs in villages around india\\n\\n\\n\\nexamples \"village entities\" are schools, water pumps, agricultural land, and households\\n\\n\\nThe following columns are in the village table in the dalgo-412710 database:\\n\\n|     | table_catalog   | table_schema        | table_name   | column_name   | data_type   |\\n|----:|:----------------|:--------------------|:-------------|:--------------|:------------|\\n| 129 | dalgo-412710    | intermediate_frappe | village      | village_id    | STRING      |\\n| 130 | dalgo-412710    | intermediate_frappe | village      | name          | STRING      |\\n| 131 | dalgo-412710    | intermediate_frappe | village      | state         | STRING      |\\n| 132 | dalgo-412710    | intermediate_frappe | village      | block_id      | STRING      |\\n| 133 | dalgo-412710    | intermediate_frappe | village      | district_id   | STRING      |\\n| 134 | dalgo-412710    | intermediate_frappe | village      | grampanch_id  | STRING      |\\n\\nThe following columns are in the villagehierarchy table in the dalgo-412710 database:\\n\\n|     | table_catalog   | table_schema        | table_name       | column_name   | data_type   |\\n|----:|:----------------|:--------------------|:-----------------|:--------------|:------------|\\n| 141 | dalgo-412710    | intermediate_frappe | villagehierarchy | village_id    | STRING      |\\n| 142 | dalgo-412710    | intermediate_frappe | villagehierarchy | villagename   | STRING      |\\n| 143 | dalgo-412710    | intermediate_frappe | villagehierarchy | grampanchname | STRING      |\\n| 144 | dalgo-412710    | intermediate_frappe | villagehierarchy | blockname     | STRING      |\\n| 145 | dalgo-412710    | intermediate_frappe | villagehierarchy | districtname  | STRING      |\\n| 146 | dalgo-412710    | intermediate_frappe | villagehierarchy | statename     | STRING      |\\n\\nThe following columns are in the village_to_village_entity table in the dalgo-412710 database:\\n\\n|     | table_catalog   | table_schema        | table_name                | column_name      | data_type   |\\n|----:|:----------------|:--------------------|:--------------------------|:-----------------|:------------|\\n| 126 | dalgo-412710    | intermediate_frappe | village_to_village_entity | villagetable_id  | STRING      |\\n| 127 | dalgo-412710    | intermediate_frappe | village_to_village_entity | village_id       | STRING      |\\n| 128 | dalgo-412710    | intermediate_frappe | village_to_village_entity | villageentity_id | STRING      |\\n\\nThe following columns are in the village_to_village_tracker table in the dalgo-412710 database:\\n\\n|    | table_catalog   | table_schema        | table_name                 | column_name       | data_type   |\\n|---:|:----------------|:--------------------|:---------------------------|:------------------|:------------|\\n| 87 | dalgo-412710    | intermediate_frappe | village_to_village_tracker | villagetable_id   | STRING      |\\n| 88 | dalgo-412710    | intermediate_frappe | village_to_village_tracker | village_id        | STRING      |\\n| 89 | dalgo-412710    | intermediate_frappe | village_to_village_tracker | villagetracker_id | STRING      |\\n\\nThe following columns are in the villagetracker table in the dalgo-412710 database:\\n\\n|    | table_catalog   | table_schema        | table_name     | column_name       | data_type   |\\n|---:|:----------------|:--------------------|:---------------|:------------------|:------------|\\n| 37 | dalgo-412710    | intermediate_frappe | villagetracker | villagetracker_id | STRING      |\\n| 38 | dalgo-412710    | intermediate_frappe | villagetracker | villageentity_id  | STRING      |\\n| 39 | dalgo-412710    | intermediate_frappe | villagetracker | datesurvey        | STRING      |\\n| 40 | dalgo-412710    | intermediate_frappe | villagetracker | idx               | NUMERIC     |\\n\\nThe following columns are in the village_tracker_to_village_entity table in the dalgo-412710 database:\\n\\n|     | table_catalog   | table_schema        | table_name                        | column_name       | data_type   |\\n|----:|:----------------|:--------------------|:----------------------------------|:------------------|:------------|\\n| 124 | dalgo-412710    | intermediate_frappe | village_tracker_to_village_entity | villagetracker_id | STRING      |\\n| 125 | dalgo-412710    | intermediate_frappe | village_tracker_to_village_entity | villageentity_id  | STRING      |\\n\\nThe following columns are in the districts table in the dalgo-412710 database:\\n\\n|    | table_catalog   | table_schema        | table_name   | column_name   | data_type   |\\n|---:|:----------------|:--------------------|:-------------|:--------------|:------------|\\n| 52 | dalgo-412710    | intermediate_frappe | districts    | district_id   | STRING      |\\n| 53 | dalgo-412710    | intermediate_frappe | districts    | state         | STRING      |\\n| 54 | dalgo-412710    | intermediate_frappe | districts    | name          | STRING      |\\n\\nThe following columns are in the villageentities table in the dalgo-412710 database:\\n\\n|    | table_catalog   | table_schema        | table_name      | column_name      | data_type   |\\n|---:|:----------------|:--------------------|:----------------|:-----------------|:------------|\\n| 82 | dalgo-412710    | intermediate_frappe | villageentities | villageentity_id | STRING      |\\n| 83 | dalgo-412710    | intermediate_frappe | villageentities | entity_type      | STRING      |\\n| 84 | dalgo-412710    | intermediate_frappe | villageentities | name             | STRING      |\\n| 85 | dalgo-412710    | intermediate_frappe | villageentities | latitude         | FLOAT64     |\\n| 86 | dalgo-412710    | intermediate_frappe | villageentities | longitude        | FLOAT64     |\\n\\n===Response Guidelines \\n1. If the provided context is sufficient, please generate a valid SQL query without any explanations for the question. \\n2. If the provided context is almost sufficient but requires knowledge of a specific string in a particular column, please generate an intermediate SQL query to find the distinct strings in that column. Prepend the query with a comment saying intermediate_sql \\n3. If the provided context is insufficient, please explain why it can\\'t be generated. \\n4. Please use the most relevant table(s). \\n5. If the question has been asked and answered before, please repeat the answer exactly as it was given before. \\n6. Ensure that the output SQL is BigQuery SQL-compliant and executable, and free of syntax errors. \\n'}, {'role': 'user', 'content': 'which villages have the highest levels of iron?'}]\n",
      "Using model gpt-4o for 1680.5 tokens (approx)\n",
      "LLM Response: The provided context does not include any information about the levels of iron in villages or any table that contains water quality metrics. Without this specific data, it is not possible to generate a SQL query to identify which villages have the highest levels of iron.\n"
     ]
    }
   ],
   "source": [
    "response = vn.generate_sql(question=questions[1], allow_llm_to_see_data=False)"
   ]
  },
  {
   "cell_type": "code",
   "execution_count": 60,
   "id": "e4187b2b-bdc6-4579-a44b-65b2d50b83a3",
   "metadata": {},
   "outputs": [
    {
     "name": "stdout",
     "output_type": "stream",
     "text": [
      "SQL Prompt: [{'role': 'system', 'content': 'You are a BigQuery SQL expert. Please help to generate a SQL query to answer the question. Your response should ONLY be based on the given context and follow the response guidelines and format instructions. \\n===Additional Context \\n\\n\\nexamples \"village entities\" are schools, water pumps, agricultural land, and households\\n\\n\\n\\ninrem runs water quality programs in villages around india\\n\\n\\nThe following columns are in the village_to_village_entity table in the dalgo-412710 database:\\n\\n|     | table_catalog   | table_schema        | table_name                | column_name      | data_type   |\\n|----:|:----------------|:--------------------|:--------------------------|:-----------------|:------------|\\n| 126 | dalgo-412710    | intermediate_frappe | village_to_village_entity | villagetable_id  | STRING      |\\n| 127 | dalgo-412710    | intermediate_frappe | village_to_village_entity | village_id       | STRING      |\\n| 128 | dalgo-412710    | intermediate_frappe | village_to_village_entity | villageentity_id | STRING      |\\n\\nThe following columns are in the villageentities table in the dalgo-412710 database:\\n\\n|    | table_catalog   | table_schema        | table_name      | column_name      | data_type   |\\n|---:|:----------------|:--------------------|:----------------|:-----------------|:------------|\\n| 82 | dalgo-412710    | intermediate_frappe | villageentities | villageentity_id | STRING      |\\n| 83 | dalgo-412710    | intermediate_frappe | villageentities | entity_type      | STRING      |\\n| 84 | dalgo-412710    | intermediate_frappe | villageentities | name             | STRING      |\\n| 85 | dalgo-412710    | intermediate_frappe | villageentities | latitude         | FLOAT64     |\\n| 86 | dalgo-412710    | intermediate_frappe | villageentities | longitude        | FLOAT64     |\\n\\nThe following columns are in the village table in the dalgo-412710 database:\\n\\n|     | table_catalog   | table_schema        | table_name   | column_name   | data_type   |\\n|----:|:----------------|:--------------------|:-------------|:--------------|:------------|\\n| 129 | dalgo-412710    | intermediate_frappe | village      | village_id    | STRING      |\\n| 130 | dalgo-412710    | intermediate_frappe | village      | name          | STRING      |\\n| 131 | dalgo-412710    | intermediate_frappe | village      | state         | STRING      |\\n| 132 | dalgo-412710    | intermediate_frappe | village      | block_id      | STRING      |\\n| 133 | dalgo-412710    | intermediate_frappe | village      | district_id   | STRING      |\\n| 134 | dalgo-412710    | intermediate_frappe | village      | grampanch_id  | STRING      |\\n\\nThe following columns are in the village_tracker_to_village_entity table in the dalgo-412710 database:\\n\\n|     | table_catalog   | table_schema        | table_name                        | column_name       | data_type   |\\n|----:|:----------------|:--------------------|:----------------------------------|:------------------|:------------|\\n| 124 | dalgo-412710    | intermediate_frappe | village_tracker_to_village_entity | villagetracker_id | STRING      |\\n| 125 | dalgo-412710    | intermediate_frappe | village_tracker_to_village_entity | villageentity_id  | STRING      |\\n\\nThe following columns are in the villagehierarchy table in the dalgo-412710 database:\\n\\n|     | table_catalog   | table_schema        | table_name       | column_name   | data_type   |\\n|----:|:----------------|:--------------------|:-----------------|:--------------|:------------|\\n| 141 | dalgo-412710    | intermediate_frappe | villagehierarchy | village_id    | STRING      |\\n| 142 | dalgo-412710    | intermediate_frappe | villagehierarchy | villagename   | STRING      |\\n| 143 | dalgo-412710    | intermediate_frappe | villagehierarchy | grampanchname | STRING      |\\n| 144 | dalgo-412710    | intermediate_frappe | villagehierarchy | blockname     | STRING      |\\n| 145 | dalgo-412710    | intermediate_frappe | villagehierarchy | districtname  | STRING      |\\n| 146 | dalgo-412710    | intermediate_frappe | villagehierarchy | statename     | STRING      |\\n\\nThe following columns are in the envquality_by_villageentity table in the dalgo-412710 database:\\n\\n|     | table_catalog   | table_schema        | table_name                  | column_name                         | data_type   |\\n|----:|:----------------|:--------------------|:----------------------------|:------------------------------------|:------------|\\n| 108 | dalgo-412710    | intermediate_frappe | envquality_by_villageentity | villageentity_id                    | STRING      |\\n| 109 | dalgo-412710    | intermediate_frappe | envquality_by_villageentity | villagetracker_id                   | STRING      |\\n| 110 | dalgo-412710    | intermediate_frappe | envquality_by_villageentity | purpose_of_test                     | STRING      |\\n| 111 | dalgo-412710    | intermediate_frappe | envquality_by_villageentity | description_of_environmental_source | STRING      |\\n| 112 | dalgo-412710    | intermediate_frappe | envquality_by_villageentity | sample_ref                          | STRING      |\\n| 113 | dalgo-412710    | intermediate_frappe | envquality_by_villageentity | test_narrative                      | STRING      |\\n| 114 | dalgo-412710    | intermediate_frappe | envquality_by_villageentity | reporting_date                      | STRING      |\\n| 115 | dalgo-412710    | intermediate_frappe | envquality_by_villageentity | test_method                         | STRING      |\\n| 116 | dalgo-412710    | intermediate_frappe | envquality_by_villageentity | test_vendor                         | STRING      |\\n| 117 | dalgo-412710    | intermediate_frappe | envquality_by_villageentity | test_options                        | STRING      |\\n| 118 | dalgo-412710    | intermediate_frappe | envquality_by_villageentity | environmental_parameter             | STRING      |\\n| 119 | dalgo-412710    | intermediate_frappe | envquality_by_villageentity | environmental_concentration         | NUMERIC     |\\n| 120 | dalgo-412710    | intermediate_frappe | envquality_by_villageentity | environmental_unit                  | STRING      |\\n| 121 | dalgo-412710    | intermediate_frappe | envquality_by_villageentity | environmental_safety                | STRING      |\\n| 122 | dalgo-412710    | intermediate_frappe | envquality_by_villageentity | is_tested                           | NUMERIC     |\\n| 123 | dalgo-412710    | intermediate_frappe | envquality_by_villageentity | approval_status                     | STRING      |\\n\\nThe following columns are in the village_to_village_tracker table in the dalgo-412710 database:\\n\\n|    | table_catalog   | table_schema        | table_name                 | column_name       | data_type   |\\n|---:|:----------------|:--------------------|:---------------------------|:------------------|:------------|\\n| 87 | dalgo-412710    | intermediate_frappe | village_to_village_tracker | villagetable_id   | STRING      |\\n| 88 | dalgo-412710    | intermediate_frappe | village_to_village_tracker | village_id        | STRING      |\\n| 89 | dalgo-412710    | intermediate_frappe | village_to_village_tracker | villagetracker_id | STRING      |\\n\\nThe following columns are in the villagetracker table in the dalgo-412710 database:\\n\\n|    | table_catalog   | table_schema        | table_name     | column_name       | data_type   |\\n|---:|:----------------|:--------------------|:---------------|:------------------|:------------|\\n| 37 | dalgo-412710    | intermediate_frappe | villagetracker | villagetracker_id | STRING      |\\n| 38 | dalgo-412710    | intermediate_frappe | villagetracker | villageentity_id  | STRING      |\\n| 39 | dalgo-412710    | intermediate_frappe | villagetracker | datesurvey        | STRING      |\\n| 40 | dalgo-412710    | intermediate_frappe | villagetracker | idx               | NUMERIC     |\\n\\n===Response Guidelines \\n1. If the provided context is sufficient, please generate a valid SQL query without any explanations for the question. \\n2. If the provided context is almost sufficient but requires knowledge of a specific string in a particular column, please generate an intermediate SQL query to find the distinct strings in that column. Prepend the query with a comment saying intermediate_sql \\n3. If the provided context is insufficient, please explain why it can\\'t be generated. \\n4. Please use the most relevant table(s). \\n5. If the question has been asked and answered before, please repeat the answer exactly as it was given before. \\n6. Ensure that the output SQL is BigQuery SQL-compliant and executable, and free of syntax errors. \\n'}, {'role': 'user', 'content': 'which village entities have the highest levels of iron?'}]\n",
      "Using model gpt-4o for 2157.0 tokens (approx)\n",
      "LLM Response: ```sql\n",
      "SELECT ve.villageentity_id, ve.name, ve.entity_type, e.environmental_concentration AS iron_concentration\n",
      "FROM `dalgo-412710.intermediate_frappe.envquality_by_villageentity` e\n",
      "JOIN `dalgo-412710.intermediate_frappe.villageentities` ve\n",
      "ON e.villageentity_id = ve.villageentity_id\n",
      "WHERE e.environmental_parameter = 'Iron'\n",
      "ORDER BY e.environmental_concentration DESC\n",
      "LIMIT 10;\n",
      "```\n",
      "Extracted SQL: SELECT ve.villageentity_id, ve.name, ve.entity_type, e.environmental_concentration AS iron_concentration\n",
      "FROM `dalgo-412710.intermediate_frappe.envquality_by_villageentity` e\n",
      "JOIN `dalgo-412710.intermediate_frappe.villageentities` ve\n",
      "ON e.villageentity_id = ve.villageentity_id\n",
      "WHERE e.environmental_parameter = 'Iron'\n",
      "ORDER BY e.environmental_concentration DESC\n",
      "LIMIT 10;\n"
     ]
    }
   ],
   "source": [
    "response = vn.generate_sql(question=questions[2], allow_llm_to_see_data=False)"
   ]
  },
  {
   "cell_type": "code",
   "execution_count": null,
   "id": "36a3c6fa-8edb-4eda-80af-cdbe75462a19",
   "metadata": {},
   "outputs": [],
   "source": []
  },
  {
   "cell_type": "code",
   "execution_count": null,
   "id": "9248269a-fc52-4ee1-92d8-2eac561ce133",
   "metadata": {},
   "outputs": [],
   "source": []
  },
  {
   "cell_type": "code",
   "execution_count": null,
   "id": "c7a3c1ba-756d-4a0a-9702-d92548d495f6",
   "metadata": {},
   "outputs": [],
   "source": []
  }
 ],
 "metadata": {
  "kernelspec": {
   "display_name": "3.10",
   "language": "python",
   "name": "3.10"
  },
  "language_info": {
   "codemirror_mode": {
    "name": "ipython",
    "version": 3
   },
   "file_extension": ".py",
   "mimetype": "text/x-python",
   "name": "python",
   "nbconvert_exporter": "python",
   "pygments_lexer": "ipython3",
   "version": "3.10.9"
  }
 },
 "nbformat": 4,
 "nbformat_minor": 5
}
