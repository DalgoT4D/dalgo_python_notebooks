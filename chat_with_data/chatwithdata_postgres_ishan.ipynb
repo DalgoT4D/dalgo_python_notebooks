{
 "cells": [
  {
   "cell_type": "code",
   "execution_count": null,
   "metadata": {},
   "outputs": [],
   "source": [
    "from vanna.openai import OpenAI_Chat\n",
    "from vanna.pgvector import PG_VectorStore\n",
    "\n",
    "from langchain_openai import OpenAIEmbeddings"
   ]
  },
  {
   "cell_type": "markdown",
   "metadata": {},
   "source": [
    "## Sql Generation"
   ]
  },
  {
   "cell_type": "code",
   "execution_count": null,
   "metadata": {},
   "outputs": [],
   "source": [
    "import os\n",
    "from dotenv import load_dotenv\n",
    "\n",
    "load_dotenv()\n",
    "\n",
    "class DalgoVannaClient(PG_VectorStore, OpenAI_Chat):\n",
    "    def __init__(self, openai_config={}, pg_vector_config={}):\n",
    "        PG_VectorStore.__init__(\n",
    "            self,\n",
    "            config={\n",
    "                \"connection_string\": \"postgresql+psycopg://{username}:{password}@{server}:{port}/{database}\".format(\n",
    "                    **{\n",
    "                        \"username\": os.environ[\"PGVECTOR_USER\"],\n",
    "                        \"password\": os.environ[\"PGVECTOR_PASSWORD\"],\n",
    "                        \"server\": os.environ[\"PGVECTOR_HOST\"],\n",
    "                        \"port\": os.environ[\"PGVECTOR_PORT\"],\n",
    "                        \"database\": os.environ[\"PGVECTOR_DB\"],\n",
    "                    }\n",
    "                ),\n",
    "                **pg_vector_config,\n",
    "            },\n",
    "        )\n",
    "        OpenAI_Chat.__init__(\n",
    "            self,\n",
    "            config={\n",
    "                \"api_key\": os.environ[\"OPENAI_API_KEY\"],\n",
    "                \"model\": \"gpt-4o-mini\",\n",
    "                **openai_config,\n",
    "            },\n",
    "        )\n"
   ]
  },
  {
   "cell_type": "code",
   "execution_count": null,
   "metadata": {},
   "outputs": [],
   "source": [
    "vn_client = DalgoVannaClient(\n",
    "    openai_config={\n",
    "        \"initial_prompt\": \"Please qualify all table names with their schema names in the generated SQL\"\n",
    "    },\n",
    "    pg_vector_config={\"embedding_function\": OpenAIEmbeddings()},\n",
    ")"
   ]
  },
  {
   "cell_type": "code",
   "execution_count": null,
   "metadata": {},
   "outputs": [],
   "source": [
    "vn_client.connect_to_postgres(\n",
    "    host=os.environ[\"WAREHOUSE_HOST\"],\n",
    "    dbname=os.environ[\"WAREHOUSE_DBNAME\"],\n",
    "    user=os.environ[\"WAREHOUSE_USER\"],\n",
    "    password=os.environ[\"WAREHOUSE_PASSWORD\"],\n",
    "    port=os.environ[\"WAREHOUSE_PORT\"]\n",
    ")"
   ]
  },
  {
   "cell_type": "code",
   "execution_count": null,
   "metadata": {},
   "outputs": [],
   "source": [
    "train_df = vn_client.run_sql(\"SELECT * FROM INFORMATION_SCHEMA.COLUMNS WHERE table_schema != 'airbyte_internal' \")\n",
    "training_plan = vn_client.get_training_plan_generic(df=train_df)"
   ]
  },
  {
   "cell_type": "code",
   "execution_count": null,
   "metadata": {},
   "outputs": [],
   "source": [
    "vn_client.train(plan=training_plan)"
   ]
  },
  {
   "cell_type": "code",
   "execution_count": null,
   "metadata": {},
   "outputs": [],
   "source": [
    "vn_client.generate_sql(question=\"Get me all the unique sources in the dbt project\")"
   ]
  },
  {
   "cell_type": "markdown",
   "metadata": {},
   "source": []
  }
 ],
 "metadata": {
  "kernelspec": {
   "display_name": "venv",
   "language": "python",
   "name": "python3"
  },
  "language_info": {
   "codemirror_mode": {
    "name": "ipython",
    "version": 3
   },
   "file_extension": ".py",
   "mimetype": "text/x-python",
   "name": "python",
   "nbconvert_exporter": "python",
   "pygments_lexer": "ipython3",
   "version": "3.11.0"
  }
 },
 "nbformat": 4,
 "nbformat_minor": 2
}
