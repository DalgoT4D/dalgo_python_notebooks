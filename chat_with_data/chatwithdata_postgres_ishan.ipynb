{
 "cells": [
  {
   "cell_type": "code",
   "execution_count": 1,
   "metadata": {},
   "outputs": [],
   "source": [
    "from vanna.openai import OpenAI_Chat\n",
    "from vanna.pgvector import PG_VectorStore\n",
    "\n",
    "from langchain_openai import OpenAIEmbeddings"
   ]
  },
  {
   "cell_type": "code",
   "execution_count": 2,
   "metadata": {},
   "outputs": [],
   "source": [
    "import os\n",
    "from dotenv import load_dotenv\n",
    "\n",
    "load_dotenv()\n",
    "\n",
    "class DalgoVannaClient(PG_VectorStore, OpenAI_Chat):\n",
    "    def __init__(self, openai_config={}, pg_vector_config={}):\n",
    "        PG_VectorStore.__init__(\n",
    "            self,\n",
    "            config={\n",
    "                \"connection_string\": \"postgresql+psycopg://{username}:{password}@{server}:{port}/{database}\".format(\n",
    "                    **{\n",
    "                        \"username\": os.environ[\"PGVECTOR_USER\"],\n",
    "                        \"password\": os.environ[\"PGVECTOR_PASSWORD\"],\n",
    "                        \"server\": os.environ[\"PGVECTOR_HOST\"],\n",
    "                        \"port\": os.environ[\"PGVECTOR_PORT\"],\n",
    "                        \"database\": os.environ[\"PGVECTOR_DB\"],\n",
    "                    }\n",
    "                ),\n",
    "                **pg_vector_config,\n",
    "            },\n",
    "        )\n",
    "        OpenAI_Chat.__init__(\n",
    "            self,\n",
    "            config={\n",
    "                \"api_key\": os.environ[\"OPENAI_API_KEY\"],\n",
    "                \"model\": \"gpt-4o-mini\",\n",
    "                **openai_config,\n",
    "            },\n",
    "        )\n"
   ]
  },
  {
   "cell_type": "code",
   "execution_count": 3,
   "metadata": {},
   "outputs": [],
   "source": [
    "vn_client = DalgoVannaClient(\n",
    "    openai_config={\n",
    "        \"initial_prompt\": \"Please qualify all table names with their schema names in the generated SQL\"\n",
    "    },\n",
    "    pg_vector_config={\"embedding_function\": OpenAIEmbeddings()},\n",
    ")"
   ]
  },
  {
   "cell_type": "code",
   "execution_count": 4,
   "metadata": {},
   "outputs": [],
   "source": [
    "vn_client.connect_to_postgres(\n",
    "    host=os.environ[\"WAREHOUSE_HOST\"],\n",
    "    dbname=os.environ[\"WAREHOUSE_DBNAME\"],\n",
    "    user=os.environ[\"WAREHOUSE_USER\"],\n",
    "    password=os.environ[\"WAREHOUSE_PASSWORD\"],\n",
    "    port=os.environ[\"WAREHOUSE_PORT\"]\n",
    ")"
   ]
  },
  {
   "cell_type": "code",
   "execution_count": null,
   "metadata": {},
   "outputs": [],
   "source": [
    "# traning plan\n",
    "exclude_schemas = [\"airbyte_internal\", \"dbt_staging_elementary\", \"pg_catalog\"]\n",
    "\n",
    "quote_schema = lambda schema: f\"'{schema}'\"\n",
    "\n",
    "training_sql_query = f\"\"\"SELECT * FROM INFORMATION_SCHEMA.COLUMNS WHERE \\\n",
    "table_schema not in (\\\n",
    "{','.join([quote_schema(schema) for schema in exclude_schemas])}\\\n",
    ") \"\"\"\n",
    "\n",
    "train_df = vn_client.run_sql(training_sql_query)"
   ]
  },
  {
   "cell_type": "code",
   "execution_count": 7,
   "metadata": {},
   "outputs": [
    {
     "data": {
      "text/plain": [
       "\"SELECT * FROM INFORMATION_SCHEMA.COLUMNS WHERE table_schema not in ('airbyte_internal','dbt_staging_elementary','pg_catalog') \""
      ]
     },
     "execution_count": 7,
     "metadata": {},
     "output_type": "execute_result"
    }
   ],
   "source": [
    "training_sql_query"
   ]
  },
  {
   "cell_type": "code",
   "execution_count": 8,
   "metadata": {},
   "outputs": [
    {
     "data": {
      "text/plain": [
       "table_schema\n",
       "information_schema    649\n",
       "mongo_staging         291\n",
       "test_ledger           133\n",
       "compliance            117\n",
       "dbt_staging            52\n",
       "Name: count, dtype: int64"
      ]
     },
     "execution_count": 8,
     "metadata": {},
     "output_type": "execute_result"
    }
   ],
   "source": [
    "train_df[\"table_schema\"].value_counts()"
   ]
  },
  {
   "cell_type": "code",
   "execution_count": 9,
   "metadata": {},
   "outputs": [],
   "source": [
    "training_plan = vn_client.get_training_plan_generic(df=train_df)"
   ]
  },
  {
   "cell_type": "code",
   "execution_count": 10,
   "metadata": {},
   "outputs": [],
   "source": [
    "vn_client.train(plan=training_plan)"
   ]
  },
  {
   "cell_type": "markdown",
   "metadata": {},
   "source": [
    "### Janaagraha"
   ]
  },
  {
   "cell_type": "code",
   "execution_count": null,
   "metadata": {},
   "outputs": [
    {
     "name": "stdout",
     "output_type": "stream",
     "text": [
      "SQL Prompt: [{'role': 'system', 'content': \"Please qualify all table names with their schema names in the generated SQL\\n===Additional Context \\n\\nThe following columns are in the eligibility_state_percent table in the cityfinance database:\\n\\n|     | table_catalog   | table_schema   | table_name                | column_name            | data_type         |\\n|----:|:----------------|:---------------|:--------------------------|:-----------------------|:------------------|\\n| 337 | cityfinance     | mongo_staging  | eligibility_state_percent | eligibility_percentage | numeric           |\\n| 338 | cityfinance     | mongo_staging  | eligibility_state_percent | total_cities           | bigint            |\\n| 339 | cityfinance     | mongo_staging  | eligibility_state_percent | eligible_cities        | bigint            |\\n| 565 | cityfinance     | mongo_staging  | eligibility_state_percent | state                  | character varying |\\n| 566 | cityfinance     | mongo_staging  | eligibility_state_percent | state_code             | text              |\\n\\nThe following columns are in the grants_available table in the cityfinance database:\\n\\n|     | table_catalog   | table_schema   | table_name       | column_name   | data_type         |\\n|----:|:----------------|:---------------|:-----------------|:--------------|:------------------|\\n| 536 | cityfinance     | mongo_staging  | grants_available | ulb           | character varying |\\n| 537 | cityfinance     | mongo_staging  | grants_available | district      | character varying |\\n| 538 | cityfinance     | mongo_staging  | grants_available | state         | character varying |\\n| 539 | cityfinance     | mongo_staging  | grants_available | is_eligible   | text              |\\n\\nThe following columns are in the eligibility_state_percent table in the cityfinance database:\\n\\n|     | table_catalog   | table_schema   | table_name                | column_name            | data_type         |\\n|----:|:----------------|:---------------|:--------------------------|:-----------------------|:------------------|\\n| 175 | cityfinance     | dbt_staging    | eligibility_state_percent | eligibility_percentage | numeric           |\\n| 176 | cityfinance     | dbt_staging    | eligibility_state_percent | total_cities           | bigint            |\\n| 178 | cityfinance     | dbt_staging    | eligibility_state_percent | eligible_cities        | bigint            |\\n| 665 | cityfinance     | dbt_staging    | eligibility_state_percent | state                  | character varying |\\n| 666 | cityfinance     | dbt_staging    | eligibility_state_percent | state_code             | text              |\\n\\nThe following columns are in the grants_available table in the cityfinance database:\\n\\n|     | table_catalog   | table_schema   | table_name       | column_name   | data_type         |\\n|----:|:----------------|:---------------|:-----------------|:--------------|:------------------|\\n| 661 | cityfinance     | dbt_staging    | grants_available | ulb           | character varying |\\n| 662 | cityfinance     | dbt_staging    | grants_available | district      | character varying |\\n| 663 | cityfinance     | dbt_staging    | grants_available | state         | character varying |\\n| 664 | cityfinance     | dbt_staging    | grants_available | is_eligible   | text              |\\n\\nThe following columns are in the pt_per_capita table in the cityfinance database:\\n\\n|     | table_catalog   | table_schema   | table_name    | column_name        | data_type         |\\n|----:|:----------------|:---------------|:--------------|:-------------------|:------------------|\\n|  57 | cityfinance     | mongo_staging  | pt_per_capita | pt_per_capita      | double precision  |\\n|  58 | cityfinance     | mongo_staging  | pt_per_capita | population         | double precision  |\\n|  59 | cityfinance     | mongo_staging  | pt_per_capita | total_pt_collected | double precision  |\\n| 504 | cityfinance     | mongo_staging  | pt_per_capita | ulb                | character varying |\\n| 505 | cityfinance     | mongo_staging  | pt_per_capita | district           | character varying |\\n| 506 | cityfinance     | mongo_staging  | pt_per_capita | state              | character varying |\\n| 507 | cityfinance     | mongo_staging  | pt_per_capita | year               | character varying |\\n\\nThe following columns are in the submission_rate table in the cityfinance database:\\n\\n|     | table_catalog   | table_schema   | table_name      | column_name        | data_type         |\\n|----:|:----------------|:---------------|:----------------|:-------------------|:------------------|\\n| 356 | cityfinance     | mongo_staging  | submission_rate | pt_submission_rate | numeric           |\\n| 357 | cityfinance     | mongo_staging  | submission_rate | total_ulbs         | bigint            |\\n| 358 | cityfinance     | mongo_staging  | submission_rate | approved_ulbs      | bigint            |\\n| 540 | cityfinance     | mongo_staging  | submission_rate | state              | character varying |\\n| 541 | cityfinance     | mongo_staging  | submission_rate | year               | character varying |\\n\\nThe following columns are in the pt_collect_vs_demand table in the cityfinance database:\\n\\n|     | table_catalog   | table_schema   | table_name           | column_name              | data_type         |\\n|----:|:----------------|:---------------|:---------------------|:-------------------------|:------------------|\\n| 148 | cityfinance     | mongo_staging  | pt_collect_vs_demand | total_pt_collected       | double precision  |\\n| 150 | cityfinance     | mongo_staging  | pt_collect_vs_demand | total_pt_demand          | double precision  |\\n| 151 | cityfinance     | mongo_staging  | pt_collect_vs_demand | pt_collection_percentage | double precision  |\\n| 414 | cityfinance     | mongo_staging  | pt_collect_vs_demand | ulb                      | character varying |\\n| 415 | cityfinance     | mongo_staging  | pt_collect_vs_demand | district                 | character varying |\\n| 416 | cityfinance     | mongo_staging  | pt_collect_vs_demand | state                    | character varying |\\n| 417 | cityfinance     | mongo_staging  | pt_collect_vs_demand | year                     | character varying |\\n\\nThe following columns are in the stg_population_data table in the cityfinance database:\\n\\n|     | table_catalog   | table_schema   | table_name          | column_name   | data_type         |\\n|----:|:----------------|:---------------|:--------------------|:--------------|:------------------|\\n| 171 | cityfinance     | mongo_staging  | stg_population_data | population    | double precision  |\\n| 502 | cityfinance     | mongo_staging  | stg_population_data | ulb           | character varying |\\n| 503 | cityfinance     | mongo_staging  | stg_population_data | state         | character varying |\\n\\nThe following columns are in the tax_submission_rate table in the cityfinance database:\\n\\n|     | table_catalog   | table_schema   | table_name          | column_name   | data_type         |\\n|----:|:----------------|:---------------|:--------------------|:--------------|:------------------|\\n| 526 | cityfinance     | mongo_staging  | tax_submission_rate | ulb           | character varying |\\n| 527 | cityfinance     | mongo_staging  | tax_submission_rate | district      | character varying |\\n| 528 | cityfinance     | mongo_staging  | tax_submission_rate | year          | character varying |\\n| 529 | cityfinance     | mongo_staging  | tax_submission_rate | state         | character varying |\\n| 530 | cityfinance     | mongo_staging  | tax_submission_rate | status        | character varying |\\n\\nThe following columns are in the tax_sub_rate table in the cityfinance database:\\n\\n|     | table_catalog   | table_schema   | table_name   | column_name        | data_type         |\\n|----:|:----------------|:---------------|:-------------|:-------------------|:------------------|\\n| 212 | cityfinance     | mongo_staging  | tax_sub_rate | pt_submission_rate | numeric           |\\n| 213 | cityfinance     | mongo_staging  | tax_sub_rate | total_ulbs         | bigint            |\\n| 214 | cityfinance     | mongo_staging  | tax_sub_rate | approved_ulbs      | bigint            |\\n| 608 | cityfinance     | mongo_staging  | tax_sub_rate | state              | character varying |\\n| 609 | cityfinance     | mongo_staging  | tax_sub_rate | year               | character varying |\\n| 610 | cityfinance     | mongo_staging  | tax_sub_rate | state_code         | text              |\\n\\n===Response Guidelines \\n1. If the provided context is sufficient, please generate a valid SQL query without any explanations for the question. \\n2. If the provided context is almost sufficient but requires knowledge of a specific string in a particular column, please generate an intermediate SQL query to find the distinct strings in that column. Prepend the query with a comment saying intermediate_sql \\n3. If the provided context is insufficient, please explain why it can't be generated. \\n4. Please use the most relevant table(s). \\n5. If the question has been asked and answered before, please repeat the answer exactly as it was given before. \\n6. Ensure that the output SQL is PostgreSQL-compliant and executable, and free of syntax errors. \\n\"}, {'role': 'user', 'content': \"\\nUser's Question: Give me the % of panachayats eligible for grants\\n\\nAdditional Context:\\n- Chart Title: City Eligibility\\n- Schema: mongo_staging\\n- Table: grants_available\\n\\n\\nPlease provide a detailed answer considering the above context.\\n\"}]\n",
      "Using model gpt-4o-mini for 2351.75 tokens (approx)\n",
      "LLM Response: ```sql\n",
      "SELECT \n",
      "    (COUNT(CASE WHEN is_eligible = 'yes' THEN 1 END) * 100.0 / COUNT(*)) AS eligible_percentage\n",
      "FROM \n",
      "    mongo_staging.grants_available;\n",
      "```\n",
      "Extracted SQL: SELECT \n",
      "    (COUNT(CASE WHEN is_eligible = 'yes' THEN 1 END) * 100.0 / COUNT(*)) AS eligible_percentage\n",
      "FROM \n",
      "    mongo_staging.grants_available;\n"
     ]
    }
   ],
   "source": [
    "chart = [{\"chart_name\": \"City Eligibility\", \"schema\": \"mongo_staging\", \"table\": \"grants_available\"}]\n",
    "\n",
    "user_question = \"Give me the % eligibility across panchayats, municipalities and area councils\"\n",
    "\n",
    "user_question = \"Give me the % of panachayats eligible for grants\"\n",
    "\n",
    "vanna_query = f\"\"\"\n",
    "User's Question: {user_question}\n",
    "\n",
    "Additional Context:\n",
    "- Chart Title: {chart[0]['chart_name']}\n",
    "- Schema: {chart[0]['schema']}\n",
    "- Table: {chart[0]['table']}\n",
    "\n",
    "\n",
    "Please provide a detailed answer considering the above context.\n",
    "\"\"\"\n",
    "\n",
    "sql = vn_client.generate_sql(question=vanna_query, allow_llm_to_see_data=False)"
   ]
  },
  {
   "cell_type": "code",
   "execution_count": null,
   "metadata": {},
   "outputs": [],
   "source": []
  }
 ],
 "metadata": {
  "kernelspec": {
   "display_name": "venv",
   "language": "python",
   "name": "python3"
  },
  "language_info": {
   "codemirror_mode": {
    "name": "ipython",
    "version": 3
   },
   "file_extension": ".py",
   "mimetype": "text/x-python",
   "name": "python",
   "nbconvert_exporter": "python",
   "pygments_lexer": "ipython3",
   "version": "3.11.0"
  }
 },
 "nbformat": 4,
 "nbformat_minor": 2
}
