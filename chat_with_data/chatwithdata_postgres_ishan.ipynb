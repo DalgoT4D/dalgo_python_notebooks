{
 "cells": [
  {
   "cell_type": "code",
   "execution_count": 1,
   "metadata": {},
   "outputs": [],
   "source": [
    "from vanna.openai import OpenAI_Chat\n",
    "from vanna.pgvector import PG_VectorStore\n",
    "\n",
    "from langchain_openai import OpenAIEmbeddings"
   ]
  },
  {
   "cell_type": "code",
   "execution_count": 2,
   "metadata": {},
   "outputs": [],
   "source": [
    "import os\n",
    "from dotenv import load_dotenv\n",
    "\n",
    "load_dotenv()\n",
    "\n",
    "class DalgoVannaClient(PG_VectorStore, OpenAI_Chat):\n",
    "    def __init__(self, openai_config={}, pg_vector_config={}):\n",
    "        PG_VectorStore.__init__(\n",
    "            self,\n",
    "            config={\n",
    "                \"connection_string\": \"postgresql+psycopg://{username}:{password}@{server}:{port}/{database}\".format(\n",
    "                    **{\n",
    "                        \"username\": os.environ[\"PGVECTOR_USER\"],\n",
    "                        \"password\": os.environ[\"PGVECTOR_PASSWORD\"],\n",
    "                        \"server\": os.environ[\"PGVECTOR_HOST\"],\n",
    "                        \"port\": os.environ[\"PGVECTOR_PORT\"],\n",
    "                        \"database\": os.environ[\"PGVECTOR_DB\"],\n",
    "                    }\n",
    "                ),\n",
    "                **pg_vector_config,\n",
    "            },\n",
    "        )\n",
    "        OpenAI_Chat.__init__(\n",
    "            self,\n",
    "            config={\n",
    "                \"api_key\": os.environ[\"OPENAI_API_KEY\"],\n",
    "                \"model\": \"gpt-4o-mini\",\n",
    "                **openai_config,\n",
    "            },\n",
    "        )\n"
   ]
  },
  {
   "cell_type": "code",
   "execution_count": 3,
   "metadata": {},
   "outputs": [],
   "source": [
    "vn_client = DalgoVannaClient(\n",
    "    openai_config={\n",
    "        \"initial_prompt\": \"Please qualify all table names with their schema names in the generated SQL\"\n",
    "    },\n",
    "    pg_vector_config={\"embedding_function\": OpenAIEmbeddings()},\n",
    ")"
   ]
  },
  {
   "cell_type": "code",
   "execution_count": 4,
   "metadata": {},
   "outputs": [],
   "source": [
    "vn_client.connect_to_postgres(\n",
    "    host=os.environ[\"WAREHOUSE_HOST\"],\n",
    "    dbname=os.environ[\"WAREHOUSE_DBNAME\"],\n",
    "    user=os.environ[\"WAREHOUSE_USER\"],\n",
    "    password=os.environ[\"WAREHOUSE_PASSWORD\"],\n",
    "    port=os.environ[\"WAREHOUSE_PORT\"]\n",
    ")"
   ]
  },
  {
   "cell_type": "code",
   "execution_count": null,
   "metadata": {},
   "outputs": [],
   "source": [
    "# traning plan\n",
    "exclude_schemas = [\"airbyte_internal\", \"dbt_staging_elementary\", \"pg_catalog\"]\n",
    "\n",
    "quote_schema = lambda schema: f\"'{schema}'\"\n",
    "\n",
    "training_sql_query = f\"\"\"SELECT * FROM INFORMATION_SCHEMA.COLUMNS WHERE \\\n",
    "table_schema not in (\\\n",
    "{','.join([quote_schema(schema) for schema in exclude_schemas])}\\\n",
    ") \"\"\"\n",
    "\n",
    "train_df = vn_client.run_sql(training_sql_query)"
   ]
  },
  {
   "cell_type": "code",
   "execution_count": 7,
   "metadata": {},
   "outputs": [
    {
     "data": {
      "text/plain": [
       "\"SELECT * FROM INFORMATION_SCHEMA.COLUMNS WHERE table_schema not in ('airbyte_internal','dbt_staging_elementary','pg_catalog') \""
      ]
     },
     "execution_count": 7,
     "metadata": {},
     "output_type": "execute_result"
    }
   ],
   "source": [
    "training_sql_query"
   ]
  },
  {
   "cell_type": "code",
   "execution_count": 8,
   "metadata": {},
   "outputs": [
    {
     "data": {
      "text/plain": [
       "table_schema\n",
       "information_schema    649\n",
       "mongo_staging         291\n",
       "test_ledger           133\n",
       "compliance            117\n",
       "dbt_staging            52\n",
       "Name: count, dtype: int64"
      ]
     },
     "execution_count": 8,
     "metadata": {},
     "output_type": "execute_result"
    }
   ],
   "source": [
    "train_df[\"table_schema\"].value_counts()"
   ]
  },
  {
   "cell_type": "code",
   "execution_count": 9,
   "metadata": {},
   "outputs": [],
   "source": [
    "training_plan = vn_client.get_training_plan_generic(df=train_df)"
   ]
  },
  {
   "cell_type": "code",
   "execution_count": 10,
   "metadata": {},
   "outputs": [],
   "source": [
    "vn_client.train(plan=training_plan)"
   ]
  },
  {
   "cell_type": "markdown",
   "metadata": {},
   "source": [
    "### Janaagraha"
   ]
  },
  {
   "cell_type": "code",
   "execution_count": 27,
   "metadata": {},
   "outputs": [
    {
     "name": "stdout",
     "output_type": "stream",
     "text": [
      "SQL Prompt: [{'role': 'system', 'content': \"Please qualify all table names with their schema names in the generated SQL\\n===Additional Context \\n\\nThe following columns are in the eligibility_state_percent table in the cityfinance database:\\n\\n|     | table_catalog   | table_schema   | table_name                | column_name            | data_type         |\\n|----:|:----------------|:---------------|:--------------------------|:-----------------------|:------------------|\\n| 337 | cityfinance     | mongo_staging  | eligibility_state_percent | eligibility_percentage | numeric           |\\n| 338 | cityfinance     | mongo_staging  | eligibility_state_percent | total_cities           | bigint            |\\n| 339 | cityfinance     | mongo_staging  | eligibility_state_percent | eligible_cities        | bigint            |\\n| 565 | cityfinance     | mongo_staging  | eligibility_state_percent | state                  | character varying |\\n| 566 | cityfinance     | mongo_staging  | eligibility_state_percent | state_code             | text              |\\n\\nThe following columns are in the ulbs_in_state table in the cityfinance database:\\n\\n|     | table_catalog   | table_schema   | table_name    | column_name   | data_type         |\\n|----:|:----------------|:---------------|:--------------|:--------------|:------------------|\\n| 230 | cityfinance     | mongo_staging  | ulbs_in_state | total_ulbs    | bigint            |\\n| 590 | cityfinance     | mongo_staging  | ulbs_in_state | state         | character varying |\\n\\nThe following columns are in the grants_available table in the cityfinance database:\\n\\n|     | table_catalog   | table_schema   | table_name       | column_name   | data_type         |\\n|----:|:----------------|:---------------|:-----------------|:--------------|:------------------|\\n| 536 | cityfinance     | mongo_staging  | grants_available | ulb           | character varying |\\n| 537 | cityfinance     | mongo_staging  | grants_available | district      | character varying |\\n| 538 | cityfinance     | mongo_staging  | grants_available | state         | character varying |\\n| 539 | cityfinance     | mongo_staging  | grants_available | is_eligible   | text              |\\n\\nThe following columns are in the eligibility_state_percent table in the cityfinance database:\\n\\n|     | table_catalog   | table_schema   | table_name                | column_name            | data_type         |\\n|----:|:----------------|:---------------|:--------------------------|:-----------------------|:------------------|\\n| 175 | cityfinance     | dbt_staging    | eligibility_state_percent | eligibility_percentage | numeric           |\\n| 176 | cityfinance     | dbt_staging    | eligibility_state_percent | total_cities           | bigint            |\\n| 178 | cityfinance     | dbt_staging    | eligibility_state_percent | eligible_cities        | bigint            |\\n| 665 | cityfinance     | dbt_staging    | eligibility_state_percent | state                  | character varying |\\n| 666 | cityfinance     | dbt_staging    | eligibility_state_percent | state_code             | text              |\\n\\nThe following columns are in the ulbs table in the cityfinance database:\\n\\n|     | table_catalog   | table_schema   | table_name   | column_name                 | data_type                |\\n|----:|:----------------|:---------------|:-------------|:----------------------------|:-------------------------|\\n| 195 | cityfinance     | mongo_staging  | ulbs         | _airbyte_meta               | jsonb                    |\\n| 196 | cityfinance     | mongo_staging  | ulbs         | _airbyte_extracted_at       | timestamp with time zone |\\n| 197 | cityfinance     | mongo_staging  | ulbs         | population_old              | numeric                  |\\n| 198 | cityfinance     | mongo_staging  | ulbs         | isGsdpEligible              | boolean                  |\\n| 199 | cityfinance     | mongo_staging  | ulbs         | isDulyElected               | boolean                  |\\n| 200 | cityfinance     | mongo_staging  | ulbs         | access_2425                 | boolean                  |\\n| 202 | cityfinance     | mongo_staging  | ulbs         | access_2324                 | boolean                  |\\n| 203 | cityfinance     | mongo_staging  | ulbs         | access_2223                 | boolean                  |\\n| 204 | cityfinance     | mongo_staging  | ulbs         | access_2122                 | boolean                  |\\n| 205 | cityfinance     | mongo_staging  | ulbs         | access_2021                 | boolean                  |\\n| 206 | cityfinance     | mongo_staging  | ulbs         | location                    | jsonb                    |\\n| 207 | cityfinance     | mongo_staging  | ulbs         | isActive                    | boolean                  |\\n| 208 | cityfinance     | mongo_staging  | ulbs         | __v                         | numeric                  |\\n| 614 | cityfinance     | mongo_staging  | ulbs         | _id                         | character varying        |\\n| 615 | cityfinance     | mongo_staging  | ulbs         | tag                         | character varying        |\\n| 616 | cityfinance     | mongo_staging  | ulbs         | code                        | character varying        |\\n| 617 | cityfinance     | mongo_staging  | ulbs         | isUA                        | character varying        |\\n| 618 | cityfinance     | mongo_staging  | ulbs         | name                        | character varying        |\\n| 619 | cityfinance     | mongo_staging  | ulbs         | amrut                       | character varying        |\\n| 620 | cityfinance     | mongo_staging  | ulbs         | state                       | character varying        |\\n| 621 | cityfinance     | mongo_staging  | ulbs         | sbCode                      | character varying        |\\n| 622 | cityfinance     | mongo_staging  | ulbs         | lgdCode                     | character varying        |\\n| 623 | cityfinance     | mongo_staging  | ulbs         | ulbType                     | character varying        |\\n| 624 | cityfinance     | mongo_staging  | ulbs         | district                    | character varying        |\\n| 625 | cityfinance     | mongo_staging  | ulbs         | formType                    | character varying        |\\n| 626 | cityfinance     | mongo_staging  | ulbs         | keywords                    | character varying        |\\n| 627 | cityfinance     | mongo_staging  | ulbs         | createdAt                   | character varying        |\\n| 628 | cityfinance     | mongo_staging  | ulbs         | areaSource                  | character varying        |\\n| 629 | cityfinance     | mongo_staging  | ulbs         | censusCode                  | character varying        |\\n| 630 | cityfinance     | mongo_staging  | ulbs         | censusType                  | character varying        |\\n| 631 | cityfinance     | mongo_staging  | ulbs         | modifiedAt                  | character varying        |\\n| 632 | cityfinance     | mongo_staging  | ulbs         | wardSource                  | character varying        |\\n| 633 | cityfinance     | mongo_staging  | ulbs         | natureOfUlb                 | character varying        |\\n| 634 | cityfinance     | mongo_staging  | ulbs         | regionalName                | character varying        |\\n| 635 | cityfinance     | mongo_staging  | ulbs         | districtSoure               | character varying        |\\n| 636 | cityfinance     | mongo_staging  | ulbs         | isMillionPlus               | character varying        |\\n| 637 | cityfinance     | mongo_staging  | ulbs         | population_source           | character varying        |\\n| 638 | cityfinance     | mongo_staging  | ulbs         | UA_aibyte_transform         | character varying        |\\n| 639 | cityfinance     | mongo_staging  | ulbs         | area_aibyte_transform       | character varying        |\\n| 640 | cityfinance     | mongo_staging  | ulbs         | wards_aibyte_transform      | character varying        |\\n| 641 | cityfinance     | mongo_staging  | ulbs         | population_aibyte_transform | character varying        |\\n| 642 | cityfinance     | mongo_staging  | ulbs         | _airbyte_raw_id             | character varying        |\\n\\nThe following columns are in the grants_available table in the cityfinance database:\\n\\n|     | table_catalog   | table_schema   | table_name       | column_name   | data_type         |\\n|----:|:----------------|:---------------|:-----------------|:--------------|:------------------|\\n| 661 | cityfinance     | dbt_staging    | grants_available | ulb           | character varying |\\n| 662 | cityfinance     | dbt_staging    | grants_available | district      | character varying |\\n| 663 | cityfinance     | dbt_staging    | grants_available | state         | character varying |\\n| 664 | cityfinance     | dbt_staging    | grants_available | is_eligible   | text              |\\n\\nThe following columns are in the ulbs_in_state table in the cityfinance database:\\n\\n|     | table_catalog   | table_schema   | table_name    | column_name   | data_type         |\\n|----:|:----------------|:---------------|:--------------|:--------------|:------------------|\\n| 340 | cityfinance     | dbt_staging    | ulbs_in_state | total_ulbs    | bigint            |\\n| 564 | cityfinance     | dbt_staging    | ulbs_in_state | state         | character varying |\\n\\nThe following columns are in the submission_rate table in the cityfinance database:\\n\\n|     | table_catalog   | table_schema   | table_name      | column_name        | data_type         |\\n|----:|:----------------|:---------------|:----------------|:-------------------|:------------------|\\n| 356 | cityfinance     | mongo_staging  | submission_rate | pt_submission_rate | numeric           |\\n| 357 | cityfinance     | mongo_staging  | submission_rate | total_ulbs         | bigint            |\\n| 358 | cityfinance     | mongo_staging  | submission_rate | approved_ulbs      | bigint            |\\n| 540 | cityfinance     | mongo_staging  | submission_rate | state              | character varying |\\n| 541 | cityfinance     | mongo_staging  | submission_rate | year               | character varying |\\n\\nThe following columns are in the ulbs table in the cityfinance database:\\n\\n|     | table_catalog   | table_schema   | table_name   | column_name           | data_type                |\\n|----:|:----------------|:---------------|:-------------|:----------------------|:-------------------------|\\n|  97 | cityfinance     | compliance     | ulbs         | isActive              | boolean                  |\\n|  98 | cityfinance     | compliance     | ulbs         | wards                 | numeric                  |\\n| 101 | cityfinance     | compliance     | ulbs         | __v                   | numeric                  |\\n| 102 | cityfinance     | compliance     | ulbs         | access_2425           | boolean                  |\\n| 103 | cityfinance     | compliance     | ulbs         | isDulyElected         | boolean                  |\\n| 107 | cityfinance     | compliance     | ulbs         | access_2021           | boolean                  |\\n| 109 | cityfinance     | compliance     | ulbs         | access_2122           | boolean                  |\\n| 110 | cityfinance     | compliance     | ulbs         | access_2223           | boolean                  |\\n| 111 | cityfinance     | compliance     | ulbs         | access_2324           | boolean                  |\\n| 112 | cityfinance     | compliance     | ulbs         | isGsdpEligible        | boolean                  |\\n| 114 | cityfinance     | compliance     | ulbs         | population_old        | numeric                  |\\n| 116 | cityfinance     | compliance     | ulbs         | population            | numeric                  |\\n| 119 | cityfinance     | compliance     | ulbs         | location              | jsonb                    |\\n| 122 | cityfinance     | compliance     | ulbs         | _airbyte_extracted_at | timestamp with time zone |\\n| 123 | cityfinance     | compliance     | ulbs         | _airbyte_meta         | jsonb                    |\\n| 458 | cityfinance     | compliance     | ulbs         | natureOfUlb           | character varying        |\\n| 459 | cityfinance     | compliance     | ulbs         | isMillionPlus         | character varying        |\\n| 460 | cityfinance     | compliance     | ulbs         | code                  | character varying        |\\n| 461 | cityfinance     | compliance     | ulbs         | modifiedAt            | character varying        |\\n| 462 | cityfinance     | compliance     | ulbs         | isUA                  | character varying        |\\n| 463 | cityfinance     | compliance     | ulbs         | UA_aibyte_transform   | character varying        |\\n| 464 | cityfinance     | compliance     | ulbs         | createdAt             | character varying        |\\n| 465 | cityfinance     | compliance     | ulbs         | ulbType               | character varying        |\\n| 466 | cityfinance     | compliance     | ulbs         | tag                   | character varying        |\\n| 467 | cityfinance     | compliance     | ulbs         | state                 | character varying        |\\n| 468 | cityfinance     | compliance     | ulbs         | sbCode                | character varying        |\\n| 469 | cityfinance     | compliance     | ulbs         | censusCode            | character varying        |\\n| 470 | cityfinance     | compliance     | ulbs         | regionalName          | character varying        |\\n| 471 | cityfinance     | compliance     | ulbs         | amrut                 | character varying        |\\n| 472 | cityfinance     | compliance     | ulbs         | area_aibyte_transform | character varying        |\\n| 473 | cityfinance     | compliance     | ulbs         | name                  | character varying        |\\n| 474 | cityfinance     | compliance     | ulbs         | _id                   | character varying        |\\n| 475 | cityfinance     | compliance     | ulbs         | _airbyte_raw_id       | character varying        |\\n\\nThe following columns are in the stg_population_data table in the cityfinance database:\\n\\n|     | table_catalog   | table_schema   | table_name          | column_name   | data_type         |\\n|----:|:----------------|:---------------|:--------------------|:--------------|:------------------|\\n| 171 | cityfinance     | mongo_staging  | stg_population_data | population    | double precision  |\\n| 502 | cityfinance     | mongo_staging  | stg_population_data | ulb           | character varying |\\n| 503 | cityfinance     | mongo_staging  | stg_population_data | state         | character varying |\\n\\n===Response Guidelines \\n1. If the provided context is sufficient, please generate a valid SQL query without any explanations for the question. \\n2. If the provided context is almost sufficient but requires knowledge of a specific string in a particular column, please generate an intermediate SQL query to find the distinct strings in that column. Prepend the query with a comment saying intermediate_sql \\n3. If the provided context is insufficient, please explain why it can't be generated. \\n4. Please use the most relevant table(s). \\n5. If the question has been asked and answered before, please repeat the answer exactly as it was given before. \\n6. Ensure that the output SQL is PostgreSQL-compliant and executable, and free of syntax errors. \\n\"}, {'role': 'user', 'content': \"\\nUser's Question: Give me the % eligibility of ulb's\\n\\nAdditional Context:\\n- Chart Title: City Eligibility\\n- Schema: mongo_staging\\n- Table: grants_available\\n\\nPlease provide a detailed answer considering the above context.\\n\"}]\n",
      "Using model gpt-4o-mini for 3895.25 tokens (approx)\n",
      "LLM Response: ```sql\n",
      "SELECT \n",
      "    g.state,\n",
      "    g.district,\n",
      "    g.ulb,\n",
      "    e.eligibility_percentage\n",
      "FROM \n",
      "    mongo_staging.grants_available g\n",
      "JOIN \n",
      "    mongo_staging.eligibility_state_percent e\n",
      "ON \n",
      "    g.state = e.state\n",
      "ORDER BY \n",
      "    g.state, g.district, g.ulb;\n",
      "```\n",
      "Extracted SQL: SELECT \n",
      "    g.state,\n",
      "    g.district,\n",
      "    g.ulb,\n",
      "    e.eligibility_percentage\n",
      "FROM \n",
      "    mongo_staging.grants_available g\n",
      "JOIN \n",
      "    mongo_staging.eligibility_state_percent e\n",
      "ON \n",
      "    g.state = e.state\n",
      "ORDER BY \n",
      "    g.state, g.district, g.ulb;\n"
     ]
    }
   ],
   "source": [
    "chart = [{\"chart_name\": \"City Eligibility\", \"schema\": \"mongo_staging\", \"table\": \"grants_available\"}]\n",
    "\n",
    "user_question = \"Give me the % eligibility across panchayats, municipalities and area councils\"\n",
    "\n",
    "user_question = \"Give me the % eligibility of states\"\n",
    "\n",
    "user_question = \"Give me the % eligibility of panchayats\"\n",
    "\n",
    "user_question = \"Give me the % eligibility of ulb's\"\n",
    "\n",
    "vanna_query = f\"\"\"\n",
    "User's Question: {user_question}\n",
    "\n",
    "Additional Context:\n",
    "- Chart Title: {chart[0]['chart_name']}\n",
    "- Schema: {chart[0]['schema']}\n",
    "- Table: {chart[0]['table']}\n",
    "\n",
    "Please provide a detailed answer considering the above context.\n",
    "\"\"\"\n",
    "\n",
    "sql = vn_client.generate_sql(question=vanna_query, allow_llm_to_see_data=False)"
   ]
  },
  {
   "cell_type": "markdown",
   "metadata": {},
   "source": [
    "| Question | Sql | Comments |\n",
    "|----------|----------|----------|\n",
    "| Give me the % eligibility across panchayats, municipalities and area councils | Incorrect , its trying to compute % for state but that is also incorrect | Row 1, Col 3 |\n",
    "| Give me the % eligibility of states | It got this almost right, in the sense it didn't do DISTINCT and so i was seeing a state & its percentage multiple times | Row 2, Col 3 |\n",
    "| Give me the % eligibility of panchayats | Incorrect, it doesn't understand what panchayats are which is reasonable because the schema doesn't have that information explicitly | Row 3, Col 3 |\n",
    "| Give me the % eligibility of ulb's | Correct | Row 3, Col 3 |"
   ]
  },
  {
   "cell_type": "code",
   "execution_count": 28,
   "metadata": {},
   "outputs": [
    {
     "data": {
      "text/plain": [
       "'SELECT \\n    g.state,\\n    g.district,\\n    g.ulb,\\n    e.eligibility_percentage\\nFROM \\n    mongo_staging.grants_available g\\nJOIN \\n    mongo_staging.eligibility_state_percent e\\nON \\n    g.state = e.state\\nORDER BY \\n    g.state, g.district, g.ulb;'"
      ]
     },
     "execution_count": 28,
     "metadata": {},
     "output_type": "execute_result"
    }
   ],
   "source": [
    "sql"
   ]
  },
  {
   "cell_type": "code",
   "execution_count": null,
   "metadata": {},
   "outputs": [],
   "source": []
  }
 ],
 "metadata": {
  "kernelspec": {
   "display_name": "venv",
   "language": "python",
   "name": "python3"
  },
  "language_info": {
   "codemirror_mode": {
    "name": "ipython",
    "version": 3
   },
   "file_extension": ".py",
   "mimetype": "text/x-python",
   "name": "python",
   "nbconvert_exporter": "python",
   "pygments_lexer": "ipython3",
   "version": "3.11.0"
  }
 },
 "nbformat": 4,
 "nbformat_minor": 2
}
